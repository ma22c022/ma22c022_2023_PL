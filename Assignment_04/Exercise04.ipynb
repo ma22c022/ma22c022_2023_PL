{
  "nbformat": 4,
  "nbformat_minor": 0,
  "metadata": {
    "colab": {
      "provenance": []
    },
    "kernelspec": {
      "name": "python3",
      "display_name": "Python 3"
    },
    "language_info": {
      "name": "python"
    }
  },
  "cells": [
    {
      "cell_type": "code",
      "execution_count": 14,
      "metadata": {
        "id": "xMoa5uYifhOH"
      },
      "outputs": [],
      "source": [
        "def twice(u):\n",
        "  u *=2\n",
        "  print('inside function twice.',u)"
      ]
    },
    {
      "cell_type": "code",
      "source": [
        "v = [3, 2, 1]\n",
        "print('outside the function.',twice(v))\n",
        "print('print v to see changes are permanent or temparory.',v)"
      ],
      "metadata": {
        "colab": {
          "base_uri": "https://localhost:8080/"
        },
        "id": "0J7WmajngMiw",
        "outputId": "6b511a37-c58c-43ea-bc7e-0225ca3336c1"
      },
      "execution_count": 16,
      "outputs": [
        {
          "output_type": "stream",
          "name": "stdout",
          "text": [
            "inside function twice. [3, 2, 1, 3, 2, 1]\n",
            "outside the function. None\n",
            "print v to see changes are permanent or temparory. [3, 2, 1, 3, 2, 1]\n"
          ]
        }
      ]
    },
    {
      "cell_type": "markdown",
      "source": [
        "**Using Numpy**"
      ],
      "metadata": {
        "id": "RDHueOOphkDY"
      }
    },
    {
      "cell_type": "code",
      "source": [
        "import numpy as np\n",
        "v = np.array(v)"
      ],
      "metadata": {
        "id": "ORQa-cftguDy"
      },
      "execution_count": 6,
      "outputs": []
    },
    {
      "cell_type": "code",
      "source": [
        "print('outside the function.',twice(v))\n",
        "print('print v to see changes are permanent or temparory.',v)"
      ],
      "metadata": {
        "colab": {
          "base_uri": "https://localhost:8080/"
        },
        "id": "QI_gFVd1gvXZ",
        "outputId": "90c2ad2d-c22c-4566-a0cb-6c0f3d737cde"
      },
      "execution_count": 8,
      "outputs": [
        {
          "output_type": "stream",
          "name": "stdout",
          "text": [
            "inside function twice. [ 4  8 12  4  8 12]\n",
            "outside the function- None\n",
            "print v to see weather changes we made were permanent or temparory. [ 4  8 12  4  8 12]\n"
          ]
        }
      ]
    },
    {
      "cell_type": "markdown",
      "source": [
        "**Using String**"
      ],
      "metadata": {
        "id": "-O40dM9UhfEV"
      }
    },
    {
      "cell_type": "code",
      "source": [
        "v = 'Hello'\n",
        "print('outside the function-',twice(v))\n",
        "print('print v to see changes are permanent or temparory-',v)"
      ],
      "metadata": {
        "colab": {
          "base_uri": "https://localhost:8080/"
        },
        "id": "8c0rlXRLhDy0",
        "outputId": "a3ea60ff-47ab-4671-8141-af2616abc9f8"
      },
      "execution_count": 17,
      "outputs": [
        {
          "output_type": "stream",
          "name": "stdout",
          "text": [
            "inside function twice. HelloHello\n",
            "outside the function- None\n",
            "print v to see changes are permanent or temparory- Hello\n"
          ]
        }
      ]
    },
    {
      "cell_type": "code",
      "source": [],
      "metadata": {
        "id": "lF2njbsnhd7x"
      },
      "execution_count": null,
      "outputs": []
    }
  ]
}