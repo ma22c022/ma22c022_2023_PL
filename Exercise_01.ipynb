{
  "nbformat": 4,
  "nbformat_minor": 0,
  "metadata": {
    "colab": {
      "provenance": [],
      "authorship_tag": "ABX9TyOUvO1nNfzq0/tAfzZ3Bm6b",
      "include_colab_link": true
    },
    "kernelspec": {
      "name": "python3",
      "display_name": "Python 3"
    },
    "language_info": {
      "name": "python"
    }
  },
  "cells": [
    {
      "cell_type": "markdown",
      "metadata": {
        "id": "view-in-github",
        "colab_type": "text"
      },
      "source": [
        "<a href=\"https://colab.research.google.com/github/ma22c022/ma22c022_2023_PL/blob/main/Excercise_01.ipynb\" target=\"_parent\"><img src=\"https://colab.research.google.com/assets/colab-badge.svg\" alt=\"Open In Colab\"/></a>"
      ]
    },
    {
      "cell_type": "code",
      "execution_count": 3,
      "metadata": {
        "colab": {
          "base_uri": "https://localhost:8080/"
        },
        "id": "y-axYUk3WkJO",
        "outputId": "dc38918b-1937-4c77-bd1d-2b3a6a3352c5"
      },
      "outputs": [
        {
          "output_type": "stream",
          "name": "stdout",
          "text": [
            "Enter the value of n 10\n",
            "Enter the value of l 1\n",
            "55\n"
          ]
        }
      ],
      "source": [
        "n=int(input(\"Enter the value of n \" ))\n",
        "l=int(input(\"Enter the value of l \" ))\n",
        "sum=0\n",
        "for i in range (1,n+1):\n",
        "  sum+=(i**l)\n",
        "  i+=1\n",
        "print(sum)"
      ]
    }
  ]
}
