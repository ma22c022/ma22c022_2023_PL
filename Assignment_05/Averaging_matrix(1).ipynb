{
  "nbformat": 4,
  "nbformat_minor": 0,
  "metadata": {
    "colab": {
      "provenance": []
    },
    "kernelspec": {
      "name": "python3",
      "display_name": "Python 3"
    },
    "language_info": {
      "name": "python"
    }
  },
  "cells": [
    {
      "cell_type": "code",
      "source": [
        "def diag_mat(n,k):   #Define a diagonal matrix with ones along the main diagonal ,super-diagonal and sub- diagonal\n",
        "  y = np.diag(np.ones(n))\n",
        "  for i in range(1,k):       #n= The size of sqare matrix and k= The number of sub-diagonals to add.\n",
        "    y = y+ np.diag(np.ones(n-i),i) +np.diag(np.ones(n-i),-i)\n",
        "  return y"
      ],
      "metadata": {
        "id": "DtbYvTUhCuQz"
      },
      "execution_count": 98,
      "outputs": []
    },
    {
      "cell_type": "code",
      "source": [
        "def avg_mat(y):\n",
        "  avg = np.sum(y,1) # Addition of any row of the matrix\n",
        "  for i in range(len(avg)):#(len(avg)) is give the size of the matrix\n",
        "    y[i,:] = y[i,:]/avg[i] #Averaging the rows of a matrix by dividing each row by its sum.\n",
        "\n",
        "  return y"
      ],
      "metadata": {
        "id": "OKwIRYyPDCxo"
      },
      "execution_count": 99,
      "outputs": []
    },
    {
      "cell_type": "code",
      "source": [
        "def get_vec(n):# Define a vector of size n*1 size.\n",
        "  x = np.zeros(n) # Create an array of zeros of length n.\n",
        "  for i in range(n):\n",
        "    x[i] = (-1)**i #x[i] lies between -1 to 1 depend on i values .\n",
        "  return x"
      ],
      "metadata": {
        "id": "YCwcvYQHDaXp"
      },
      "execution_count": 69,
      "outputs": []
    },
    {
      "cell_type": "code",
      "source": [
        "import numpy as np\n",
        "n = 6\n",
        "k =2"
      ],
      "metadata": {
        "id": "WpWC-Z26DpjX"
      },
      "execution_count": 70,
      "outputs": []
    },
    {
      "cell_type": "code",
      "source": [
        "y = diag_mat(n,k)"
      ],
      "metadata": {
        "id": "BOrSlbTvEOxt"
      },
      "execution_count": 96,
      "outputs": []
    },
    {
      "cell_type": "code",
      "source": [
        "y = avg_mat(y)\n",
        ""
      ],
      "metadata": {
        "id": "Yw2v3qVpE9dD"
      },
      "execution_count": 72,
      "outputs": []
    },
    {
      "cell_type": "code",
      "source": [
        "x = get_vec(n)\n",
        "np.matmul(y,x)\n",
        ""
      ],
      "metadata": {
        "colab": {
          "base_uri": "https://localhost:8080/"
        },
        "id": "fHjeiMszEWH4",
        "outputId": "e50bb171-24ce-4624-a01e-58b4542bb0fa"
      },
      "execution_count": 73,
      "outputs": [
        {
          "output_type": "execute_result",
          "data": {
            "text/plain": [
              "array([ 0.        ,  0.33333333, -0.33333333,  0.33333333, -0.33333333,\n",
              "        0.        ])"
            ]
          },
          "metadata": {},
          "execution_count": 73
        }
      ]
    },
    {
      "cell_type": "markdown",
      "source": [
        "Ques 1: Apply A to a vector x whose entries are xj = (−1)^j , say for n = 20, and k = 2. and comment on the resulting vector."
      ],
      "metadata": {
        "id": "evwCVowLYBRk"
      }
    },
    {
      "cell_type": "code",
      "source": [
        "n = 20\n",
        "k =2"
      ],
      "metadata": {
        "id": "tZ3PQg1QFdVY"
      },
      "execution_count": 18,
      "outputs": []
    },
    {
      "cell_type": "code",
      "source": [
        "y = diag_mat(n,k)\n",
        "\n",
        "y = avg_mat(y)\n",
        "\n",
        "\n"
      ],
      "metadata": {
        "id": "TByyY-ZiFhjo"
      },
      "execution_count": 20,
      "outputs": []
    },
    {
      "cell_type": "code",
      "source": [
        "x=get_vec(n)\n",
        "np.matmul(y,x)"
      ],
      "metadata": {
        "colab": {
          "base_uri": "https://localhost:8080/"
        },
        "id": "jrnZak5mF9T5",
        "outputId": "19cbfa33-f032-475e-cdd5-636710f4caaf"
      },
      "execution_count": 21,
      "outputs": [
        {
          "output_type": "execute_result",
          "data": {
            "text/plain": [
              "array([ 0.        ,  0.33333333, -0.33333333,  0.33333333, -0.33333333,\n",
              "        0.33333333, -0.33333333,  0.33333333, -0.33333333,  0.33333333,\n",
              "       -0.33333333,  0.33333333, -0.33333333,  0.33333333, -0.33333333,\n",
              "        0.33333333, -0.33333333,  0.33333333, -0.33333333,  0.        ])"
            ]
          },
          "metadata": {},
          "execution_count": 21
        }
      ]
    },
    {
      "cell_type": "code",
      "source": [
        "n = 20\n",
        "k =3\n",
        "y = diag_mat(n,k)\n",
        "y = avg_mat(y)\n",
        "x=get_vec(n)\n",
        "np.matmul(y,x)\n",
        ""
      ],
      "metadata": {
        "colab": {
          "base_uri": "https://localhost:8080/"
        },
        "id": "OFYiLs2iGA2X",
        "outputId": "df0bf6fe-62e6-4c0d-ab64-de834f0e7142"
      },
      "execution_count": 74,
      "outputs": [
        {
          "output_type": "execute_result",
          "data": {
            "text/plain": [
              "array([ 0.33333333,  0.        ,  0.2       , -0.2       ,  0.2       ,\n",
              "       -0.2       ,  0.2       , -0.2       ,  0.2       , -0.2       ,\n",
              "        0.2       , -0.2       ,  0.2       , -0.2       ,  0.2       ,\n",
              "       -0.2       ,  0.2       , -0.2       ,  0.        , -0.33333333])"
            ]
          },
          "metadata": {},
          "execution_count": 74
        }
      ]
    },
    {
      "cell_type": "code",
      "source": [
        "n = 20\n",
        "k =4\n",
        "y = diag_mat(n,k)\n",
        "y = avg_mat(y)\n",
        "x=get_vec(n)\n",
        "np.matmul(y,x)\n",
        ""
      ],
      "metadata": {
        "colab": {
          "base_uri": "https://localhost:8080/"
        },
        "id": "oF1IQizLGLap",
        "outputId": "22dc2f52-bd91-49ce-9ff0-81bc6a418128"
      },
      "execution_count": 75,
      "outputs": [
        {
          "output_type": "execute_result",
          "data": {
            "text/plain": [
              "array([ 0.        ,  0.2       ,  0.        ,  0.14285714, -0.14285714,\n",
              "        0.14285714, -0.14285714,  0.14285714, -0.14285714,  0.14285714,\n",
              "       -0.14285714,  0.14285714, -0.14285714,  0.14285714, -0.14285714,\n",
              "        0.14285714, -0.14285714,  0.        , -0.2       ,  0.        ])"
            ]
          },
          "metadata": {},
          "execution_count": 75
        }
      ]
    },
    {
      "cell_type": "code",
      "source": [
        "n = 20\n",
        "k =5\n",
        "y = diag_mat(n,k)\n",
        "y = avg_mat(y)\n",
        "x=get_vec(n)\n",
        "np.matmul(y,x)\n"
      ],
      "metadata": {
        "colab": {
          "base_uri": "https://localhost:8080/"
        },
        "id": "qLwxTmxUGSib",
        "outputId": "b4737bd2-bed3-4671-895c-b094e7674fb3"
      },
      "execution_count": 76,
      "outputs": [
        {
          "output_type": "execute_result",
          "data": {
            "text/plain": [
              "array([ 0.2       ,  0.        ,  0.14285714,  0.        ,  0.11111111,\n",
              "       -0.11111111,  0.11111111, -0.11111111,  0.11111111, -0.11111111,\n",
              "        0.11111111, -0.11111111,  0.11111111, -0.11111111,  0.11111111,\n",
              "       -0.11111111,  0.        , -0.14285714,  0.        , -0.2       ])"
            ]
          },
          "metadata": {},
          "execution_count": 76
        }
      ]
    },
    {
      "cell_type": "markdown",
      "source": [
        "\n",
        "\n",
        "Ques 2:Apply A to a vector whose entries are values of f (x) = x2 + 2 sin(10x), say at n = 1000 equally spaced points in the interval [0, 10] and k = 100.\n"
      ],
      "metadata": {
        "id": "e8m0hJ9aHF6z"
      }
    },
    {
      "cell_type": "code",
      "source": [
        "x = np.linspace(0,10,1000) #x lies in interval (0, 10) with 1000 equally spaced points"
      ],
      "metadata": {
        "id": "LAKcz6qOHS0K"
      },
      "execution_count": 77,
      "outputs": []
    },
    {
      "cell_type": "code",
      "source": [
        "f_x = x**2 + 2*np.sin(10*x)\n",
        ""
      ],
      "metadata": {
        "id": "DboHIgfMHZxP"
      },
      "execution_count": 78,
      "outputs": []
    },
    {
      "cell_type": "code",
      "source": [
        "f_x.shape\n",
        "\n"
      ],
      "metadata": {
        "colab": {
          "base_uri": "https://localhost:8080/"
        },
        "id": "V2mlSb54HfDb",
        "outputId": "00c0d51a-7fd6-46fe-aded-c710bf412eda"
      },
      "execution_count": 80,
      "outputs": [
        {
          "output_type": "execute_result",
          "data": {
            "text/plain": [
              "(1000,)"
            ]
          },
          "metadata": {},
          "execution_count": 80
        }
      ]
    },
    {
      "cell_type": "code",
      "source": [
        "f_x.reshape(1000,1);"
      ],
      "metadata": {
        "id": "UEgDOHt5HwTV"
      },
      "execution_count": 81,
      "outputs": []
    },
    {
      "cell_type": "code",
      "source": [
        "n = 1000\n",
        "k = 95\n",
        "y = diag_mat(n,k)\n",
        "y = avg_mat(y)\n"
      ],
      "metadata": {
        "id": "mmWJA8cjH3Wq"
      },
      "execution_count": 97,
      "outputs": []
    },
    {
      "cell_type": "code",
      "source": [
        "y1 = np.matmul(y,f_x)"
      ],
      "metadata": {
        "id": "jJIrMvhUH-O8"
      },
      "execution_count": 83,
      "outputs": []
    },
    {
      "cell_type": "code",
      "source": [
        "x = np.linspace(0,10,1000)\n",
        "f_x = x**2 + 2*np.sin(10*x)\n",
        "f_x.reshape(1000,1);\n",
        "n = 1000\n",
        "k = 96\n",
        "y = diag_mat(n,k)\n",
        "y = avg_mat(y)\n",
        "y2 = np.matmul(y,f_x)\n"
      ],
      "metadata": {
        "id": "BfnZwYSWIEr7"
      },
      "execution_count": 84,
      "outputs": []
    },
    {
      "cell_type": "code",
      "source": [
        "n = 1000\n",
        "k = 97\n",
        "y = diag_mat(n,k)\n",
        "y = avg_mat(y)\n",
        "y3=np.matmul(y,f_x)"
      ],
      "metadata": {
        "id": "nI0PEG6YIL1g"
      },
      "execution_count": 85,
      "outputs": []
    },
    {
      "cell_type": "code",
      "source": [
        "n = 1000\n",
        "k = 98\n",
        "y = diag_mat(n,k)\n",
        "y = avg_mat(y)\n",
        "y4=np.matmul(y,f_x)\n",
        ""
      ],
      "metadata": {
        "id": "wA4ijjPjIV5x"
      },
      "execution_count": 86,
      "outputs": []
    },
    {
      "cell_type": "code",
      "source": [
        "n = 1000\n",
        "k = 99\n",
        "y = diag_mat(n,k)\n",
        "y = avg_mat(y)\n",
        "y5=np.matmul(y,f_x)\n",
        ""
      ],
      "metadata": {
        "id": "gr6pjao6IoTT"
      },
      "execution_count": 87,
      "outputs": []
    },
    {
      "cell_type": "code",
      "source": [
        "n = 1000\n",
        "k = 100\n",
        "y = diag_mat(n,k)\n",
        "y = avg_mat(y)\n",
        "y6=np.matmul(y,f_x)"
      ],
      "metadata": {
        "id": "hIrQjQ4Qi4ET"
      },
      "execution_count": null,
      "outputs": []
    },
    {
      "cell_type": "code",
      "source": [
        "n = 1000\n",
        "k = 101\n",
        "y = diag_mat(n,k)\n",
        "y = avg_mat(y)\n",
        "y7=np.matmul(y,f_x)"
      ],
      "metadata": {
        "id": "g0LJlqwHi54d"
      },
      "execution_count": null,
      "outputs": []
    },
    {
      "cell_type": "code",
      "source": [
        "max(y2-y1), min(y2-y1)\n",
        ""
      ],
      "metadata": {
        "colab": {
          "base_uri": "https://localhost:8080/"
        },
        "id": "4EJlpnigI42D",
        "outputId": "159c5857-4e10-455b-9b46-ac257a89e799"
      },
      "execution_count": 88,
      "outputs": [
        {
          "output_type": "execute_result",
          "data": {
            "text/plain": [
              "(0.025670962829863697, -0.10499200986338053)"
            ]
          },
          "metadata": {},
          "execution_count": 88
        }
      ]
    },
    {
      "cell_type": "code",
      "source": [
        "max(y3-y2), min(y3-y2)"
      ],
      "metadata": {
        "colab": {
          "base_uri": "https://localhost:8080/"
        },
        "id": "gRZfS9zSJCOC",
        "outputId": "c3157c13-fc60-4bca-9942-e1edf59a9b5c"
      },
      "execution_count": 89,
      "outputs": [
        {
          "output_type": "execute_result",
          "data": {
            "text/plain": [
              "(0.024680185133149735, -0.10499200986338053)"
            ]
          },
          "metadata": {},
          "execution_count": 89
        }
      ]
    },
    {
      "cell_type": "code",
      "source": [
        "max(y4-y3), min(y4-y3)"
      ],
      "metadata": {
        "colab": {
          "base_uri": "https://localhost:8080/"
        },
        "id": "ExyTmVAdJIr6",
        "outputId": "29b38d3d-3c41-4751-e401-8b4363c8e6dd"
      },
      "execution_count": 90,
      "outputs": [
        {
          "output_type": "execute_result",
          "data": {
            "text/plain": [
              "(0.023534788147188124, -0.10499200986338053)"
            ]
          },
          "metadata": {},
          "execution_count": 90
        }
      ]
    },
    {
      "cell_type": "code",
      "source": [
        "max(y5-y4), min(y5-y4)"
      ],
      "metadata": {
        "colab": {
          "base_uri": "https://localhost:8080/"
        },
        "id": "PRDahEYwMxXs",
        "outputId": "8a10dbb7-3501-46be-e553-02634b822373"
      },
      "execution_count": 91,
      "outputs": [
        {
          "output_type": "execute_result",
          "data": {
            "text/plain": [
              "(0.0225754898523981, -0.10499200986338053)"
            ]
          },
          "metadata": {},
          "execution_count": 91
        }
      ]
    },
    {
      "cell_type": "code",
      "source": [
        "max(y6-y5), min(y6-y5)"
      ],
      "metadata": {
        "colab": {
          "base_uri": "https://localhost:8080/"
        },
        "id": "OW1f15P7jI9I",
        "outputId": "0898884d-b51d-49c5-965d-90317b717c9d"
      },
      "execution_count": 100,
      "outputs": [
        {
          "output_type": "execute_result",
          "data": {
            "text/plain": [
              "(4.264518086023589, -17.07103217573075)"
            ]
          },
          "metadata": {},
          "execution_count": 100
        }
      ]
    },
    {
      "cell_type": "code",
      "source": [
        "max(y7-y6), min(y7-y6)"
      ],
      "metadata": {
        "colab": {
          "base_uri": "https://localhost:8080/"
        },
        "id": "opcY316jjJqS",
        "outputId": "09a2d8d8-a259-4fa3-e192-5e95d9a83bdf"
      },
      "execution_count": 101,
      "outputs": [
        {
          "output_type": "execute_result",
          "data": {
            "text/plain": [
              "(24.058218077047556, -5.035337239183968)"
            ]
          },
          "metadata": {},
          "execution_count": 101
        }
      ]
    },
    {
      "cell_type": "code",
      "source": [
        "import matplotlib.pyplot as plt\n",
        "plt.plot(x,f_x)\n",
        ""
      ],
      "metadata": {
        "colab": {
          "base_uri": "https://localhost:8080/",
          "height": 448
        },
        "id": "La_RYQPjLMn3",
        "outputId": "e260e005-9729-407c-aea8-03ace8ef6add"
      },
      "execution_count": 102,
      "outputs": [
        {
          "output_type": "execute_result",
          "data": {
            "text/plain": [
              "[<matplotlib.lines.Line2D at 0x781fe9e58bb0>]"
            ]
          },
          "metadata": {},
          "execution_count": 102
        },
        {
          "output_type": "display_data",
          "data": {
            "text/plain": [
              "<Figure size 640x480 with 1 Axes>"
            ],
            "image/png": "[encoded data removed]"
          },
          "metadata": {}
        }
      ]
    },
    {
      "cell_type": "code",
      "source": [
        "plt.figure()\n",
        "plt.subplot(141)\n",
        "plt.title('n =1000,k=95')\n",
        "plt.plot(x,y1)\n",
        "plt.grid(True)\n",
        "\n",
        "plt.subplot(142)\n",
        "plt.plot(x,y2)\n",
        "plt.title('n =1000,k=96')\n",
        "plt.grid(True)\n",
        "\n",
        "plt.subplot(143)\n",
        "plt.plot(x,y3)\n",
        "plt.title('n =1000,k=97')\n",
        "plt.grid(True)\n",
        "\n",
        "plt.subplot(144)\n",
        "plt.plot(x,y4)\n",
        "plt.title('n =1000,k=98')\n",
        "plt.grid(True)\n",
        "\n",
        "plt.subplots_adjust(top=0.92, bottom=0.08, left=0.10, right=0.95, hspace=0.45,wspace=0.35)\n",
        ""
      ],
      "metadata": {
        "colab": {
          "base_uri": "https://localhost:8080/",
          "height": 486
        },
        "id": "ZYsS5Mj8LVUo",
        "outputId": "26949326-7885-4772-c71d-0e29811ffeb6"
      },
      "execution_count": 105,
      "outputs": [
        {
          "output_type": "display_data",
          "data": {
            "text/plain": [
              "<Figure size 640x480 with 4 Axes>"
            ],
            "image/png": "[encoded data removed]"
          },
          "metadata": {}
        }
      ]
    },
    {
      "cell_type": "code",
      "source": [
        "plt.figure()\n",
        "plt.subplot(141)\n",
        "plt.title('n =1000,k=99')\n",
        "plt.plot(x,y5)\n",
        "plt.grid(True)\n",
        "plt.figure()\n",
        "plt.subplot(141)\n",
        "plt.title('n =1000,k=100')\n",
        "plt.plot(x,y5)\n",
        "plt.grid(True)\n",
        "plt.subplot(142)\n",
        "plt.plot(x,f_x)\n",
        "plt.title('Actual Graph')\n",
        "plt.grid(True)\n",
        "plt.subplots_adjust(top=0.92, bottom=0.08, left=0.10, right=0.95, hspace=0.45,wspace=0.35)\n",
        ""
      ],
      "metadata": {
        "colab": {
          "base_uri": "https://localhost:8080/",
          "height": 921
        },
        "id": "iNabOre0Lw5D",
        "outputId": "86acc423-f5c3-4d45-e372-e26f5be08d1f"
      },
      "execution_count": 106,
      "outputs": [
        {
          "output_type": "display_data",
          "data": {
            "text/plain": [
              "<Figure size 640x480 with 1 Axes>"
            ],
            "image/png": "[encoded data removed]"
          },
          "metadata": {}
        },
        {
          "output_type": "display_data",
          "data": {
            "text/plain": [
              "<Figure size 640x480 with 2 Axes>"
            ],
            "image/png": "[encoded data removed]"
          },
          "metadata": {}
        }
      ]
    },
    {
      "cell_type": "code",
      "source": [
        "n = 1000\n",
        "k = 300\n",
        "y = diag_mat(n,k)\n",
        "y = avg_mat(y)\n",
        "y8=np.matmul(y,f_x)\n",
        "n = 1000\n",
        "k = 25\n",
        "y = diag_mat(n,k)\n",
        "y = avg_mat(y)\n",
        "y9=np.matmul(y,f_x)\n",
        ""
      ],
      "metadata": {
        "id": "aJewKPPlL0fk"
      },
      "execution_count": 107,
      "outputs": []
    },
    {
      "cell_type": "code",
      "source": [
        "plt.plot(x,y8,label ='n =1000,k=300')\n",
        "plt.plot(x,y9,label = 'n =1000,k=25')\n",
        "plt.legend(loc='best')\n",
        ""
      ],
      "metadata": {
        "colab": {
          "base_uri": "https://localhost:8080/",
          "height": 450
        },
        "id": "dtE-lQYjMFM2",
        "outputId": "ef88e198-213d-4c58-929a-8cdc83acf939"
      },
      "execution_count": 108,
      "outputs": [
        {
          "output_type": "execute_result",
          "data": {
            "text/plain": [
              "<matplotlib.legend.Legend at 0x781ff8421690>"
            ]
          },
          "metadata": {},
          "execution_count": 108
        },
        {
          "output_type": "display_data",
          "data": {
            "text/plain": [
              "<Figure size 640x480 with 1 Axes>"
            ],
            "image/png": "[encoded data removed]"
          },
          "metadata": {}
        }
      ]
    },
    {
      "cell_type": "code",
      "source": [],
      "metadata": {
        "id": "xzsaBUFPMIWC"
      },
      "execution_count": null,
      "outputs": []
    }
  ]
}