{
  "nbformat": 4,
  "nbformat_minor": 0,
  "metadata": {
    "colab": {
      "provenance": []
    },
    "kernelspec": {
      "name": "python3",
      "display_name": "Python 3"
    },
    "language_info": {
      "name": "python"
    }
  },
  "cells": [
    {
      "cell_type": "code",
      "execution_count": null,
      "metadata": {
        "colab": {
          "base_uri": "https://localhost:8080/"
        },
        "id": "Azy0nNmqA7NU",
        "outputId": "0eead313-d301-4609-8c7b-00bbbf12d7fc"
      },
      "outputs": [
        {
          "output_type": "stream",
          "name": "stdout",
          "text": [
            "Probabilities of reaching one state from another state in 2 steps:\n",
            "[[0.5 0.  0.5]\n",
            " [0.5 0.5 0. ]\n",
            " [0.  1.  0. ]]\n",
            "Stationary Distribution (Eigenvector corresponding to Eigenvalue 1):\n",
            "[[0.4 0.4 0.2]]\n"
          ]
        }
      ],
      "source": [
        "import numpy as np\n",
        "\n",
        "# Define the adjacency matrix representing the graph\n",
        "# Example adjacency matrix for a graph with 3 states\n",
        "# Replace the values based on your specific graph\n",
        "graph = np.array([[0, 1, 0],\n",
        "                  [0.5, 0, 0.5],\n",
        "                  [1, 0, 0]])\n",
        "\n",
        "# Compute the transition matrix\n",
        "transition_matrix = graph / graph.sum(axis=1, keepdims=True)\n",
        "\n",
        "# Compute the probabilities using matrix multiplication\n",
        "probabilities = np.linalg.matrix_power(transition_matrix, 2)\n",
        "\n",
        "# Print the probabilities\n",
        "print(\"Probabilities of reaching one state from another state in 2 steps:\")\n",
        "print(probabilities)\n",
        "\n",
        "# Calculate the stationary distribution (eigenvector corresponding to eigenvalue 1)\n",
        "eigenvalues, eigenvectors = np.linalg.eig(transition_matrix.T)\n",
        "stationary_distribution = np.real_if_close(\n",
        "    eigenvectors[:, np.isclose(eigenvalues, 1)].T / eigenvectors[:, np.isclose(eigenvalues, 1)].sum()\n",
        ")\n",
        "\n",
        "print(\"Stationary Distribution (Eigenvector corresponding to Eigenvalue 1):\")\n",
        "print(stationary_distribution)\n"
      ]
    },
    {
      "cell_type": "code",
      "source": [
        "import numpy as np\n",
        "\n",
        "# Define the adjacency matrix representing the graph\n",
        "graph = np.array([[0, 1, 0, 0],\n",
        "                  [0.5, 0, 0.5, 0],\n",
        "                  [0, 0.5, 0, 0.5],\n",
        "                  [0, 0, 0, 1]])\n",
        "\n",
        "# Define the indices for absorbing states (A = {0, 1, 2})\n",
        "absorbing_states = [0, 1, 2]\n",
        "\n",
        "# Define the index for the starting state B = {3}\n",
        "starting_state = 3\n",
        "\n",
        "# Extract submatrices Q and R for absorbing Markov chain computation\n",
        "Q = graph[np.ix_(absorbing_states, absorbing_states)]\n",
        "R = graph[np.ix_(absorbing_states, [starting_state])]\n",
        "\n",
        "# Compute absorbing probabilities using the formula: (I - Q)^(-1) R\n",
        "absorbing_probabilities = np.linalg.inv(np.eye(len(absorbing_states)) - Q) @ R\n",
        "\n",
        "# Sum the absorbing probabilities to get the total probability of hitting A from B\n",
        "probability_hitting_A_from_B = np.sum(absorbing_probabilities)\n",
        "\n",
        "print(\"Probability of hitting A from B:\", probability_hitting_A_from_B)\n",
        "\n"
      ],
      "metadata": {
        "colab": {
          "base_uri": "https://localhost:8080/"
        },
        "id": "cOw65hfwFgHS",
        "outputId": "2412216f-5a23-4bff-8515-423d2f1a2262"
      },
      "execution_count": null,
      "outputs": [
        {
          "output_type": "stream",
          "name": "stdout",
          "text": [
            "Probability of hitting A from B: 3.0\n"
          ]
        }
      ]
    },
    {
      "cell_type": "code",
      "source": [
        "import numpy as np\n",
        "\n",
        "# Define the adjacency matrix representing the graph\n",
        "graph = np.array([[0, 1, 0, 0],\n",
        "                  [0.5, 0, 0.5, 0],\n",
        "                  [0, 0.5, 0, 0.5],\n",
        "                  [0, 0, 0, 1]])\n",
        "\n",
        "# Define the indices for absorbing state A = {3}\n",
        "absorbing_state = 3\n",
        "\n",
        "# Define the indices for transient states B = {0, 1, 2}\n",
        "transient_states = [0, 1, 2]\n",
        "\n",
        "# Extract submatrices Q and R for absorbing Markov chain computation\n",
        "Q = graph[np.ix_(transient_states, transient_states)]\n",
        "R = graph[np.ix_(transient_states, [absorbing_state])]\n",
        "\n",
        "# Compute absorbing probabilities using the formula: (I - Q)^(-1) R\n",
        "absorbing_probabilities = np.linalg.inv(np.eye(len(transient_states)) - Q) @ R\n",
        "\n",
        "# Sum the absorbing probabilities to get the total probability of hitting A = {3} from B = {0, 1, 2}\n",
        "probability_hitting_A_from_B = np.sum(absorbing_probabilities)\n",
        "\n",
        "print(\"Probability of hitting A = {3} from B = {0, 1, 2}:\", probability_hitting_A_from_B)\n"
      ],
      "metadata": {
        "colab": {
          "base_uri": "https://localhost:8080/"
        },
        "id": "QLsb2xZPGPTT",
        "outputId": "0d8bf231-7bbc-46a7-baec-abf4721b6f48"
      },
      "execution_count": null,
      "outputs": [
        {
          "output_type": "stream",
          "name": "stdout",
          "text": [
            "Probability of hitting A = {3} from B = {0, 1, 2}: 3.0\n"
          ]
        }
      ]
    },
    {
      "cell_type": "code",
      "source": [
        "import numpy as np\n",
        "\n",
        "# Define the adjacency matrix representing the graph\n",
        "graph = np.array([[0, 1, 0, 0],\n",
        "                  [0.5, 0, 0.5, 0],\n",
        "                  [0, 0.5, 0, 0.5],\n",
        "                  [0, 0, 0, 1]])\n",
        "\n",
        "# Check if the Markov chain is absorbing\n",
        "is_absorbing = np.all(np.diag(graph) == 1)\n",
        "\n",
        "if is_absorbing:\n",
        "    # Compute absorbing probabilities using the eigenvector method\n",
        "    eigenvalues, eigenvectors = np.linalg.eig(graph.T)\n",
        "    stationary_distribution = eigenvectors[:, np.isclose(eigenvalues, 1)][:, 0]\n",
        "    absorbing_probabilities_eigenvector = stationary_distribution / stationary_distribution.sum()\n",
        "\n",
        "    # Extract absorbing probabilities from the diagonal of the adjacency matrix\n",
        "    absorbing_probabilities_matrix = np.diag(graph)\n",
        "\n",
        "    # Check if the probabilities match\n",
        "    probabilities_match = np.allclose(absorbing_probabilities_eigenvector, absorbing_probabilities_matrix)\n",
        "\n",
        "    print(\"The Markov chain is absorbing.\")\n",
        "    print(\"Absorbing probabilities (Eigenvector Method):\", absorbing_probabilities_eigenvector)\n",
        "    print(\"Absorbing probabilities (Matrix Diagonal):\", absorbing_probabilities_matrix)\n",
        "    print(\"Do the probabilities match?\", probabilities_match)\n",
        "else:\n",
        "    print(\"The Markov chain is not absorbing.\")\n"
      ],
      "metadata": {
        "colab": {
          "base_uri": "https://localhost:8080/"
        },
        "id": "x4TWWljRGnoD",
        "outputId": "2525f815-40ee-44d5-8a71-5dc80abdd694"
      },
      "execution_count": null,
      "outputs": [
        {
          "output_type": "stream",
          "name": "stdout",
          "text": [
            "The Markov chain is not absorbing.\n"
          ]
        }
      ]
    },
    {
      "cell_type": "code",
      "source": [
        "import numpy as np\n",
        "\n",
        "# Define the adjacency matrix representing the graph\n",
        "graph = np.array([[0, 1, 0, 0],\n",
        "                  [0.5, 0, 0.5, 0],\n",
        "                  [0, 0.5, 0, 0.5],\n",
        "                  [0, 0, 0, 1]])\n",
        "\n",
        "# Define the set of states A = {0, 1, 2}\n",
        "A_states = [0, 1, 2]\n",
        "\n",
        "# Initialize hitting probabilities\n",
        "hitting_probabilities = np.zeros(graph.shape[0])\n",
        "hitting_probabilities[A_states] = 1  # Set hitting probability to 1 for states in set A\n",
        "\n",
        "# Perform a fixed number of iterations to ensure convergence\n",
        "num_iterations = 1000\n",
        "\n",
        "for _ in range(num_iterations):\n",
        "    updated_probabilities = np.zeros_like(hitting_probabilities)\n",
        "    for state in range(graph.shape[0]):\n",
        "        if state not in A_states:\n",
        "            updated_probabilities[state] = np.dot(graph[state], hitting_probabilities)\n",
        "    hitting_probabilities = updated_probabilities\n",
        "\n",
        "# Print hitting probabilities for states A = {0, 1, 2} from the remaining states\n",
        "print(\"Hitting Probabilities of A = {0, 1, 2} from the remaining states:\")\n",
        "print(hitting_probabilities)\n"
      ],
      "metadata": {
        "colab": {
          "base_uri": "https://localhost:8080/"
        },
        "id": "E8GxHgq4HtYI",
        "outputId": "3bf4ac92-8168-4f82-8f80-3c0e3d19cefa"
      },
      "execution_count": null,
      "outputs": [
        {
          "output_type": "stream",
          "name": "stdout",
          "text": [
            "Hitting Probabilities of A = {0, 1, 2} from the remaining states:\n",
            "[0. 0. 0. 0.]\n"
          ]
        }
      ]
    },
    {
      "cell_type": "code",
      "source": [
        "import numpy as np\n",
        "\n",
        "# Define the adjacency matrix representing the graph\n",
        "graph = np.array([[0, 1, 0, 0, 0, 0, 0],\n",
        "                  [0.5, 0, 0.5, 0, 0, 0, 0],\n",
        "                  [0, 0.5, 0, 0.5, 0, 0, 0],\n",
        "                  [0, 0, 0.5, 0, 0.5, 0, 0],\n",
        "                  [0, 0, 0, 0, 0, 1, 0],\n",
        "                  [0, 0, 0, 0, 0, 1, 0],\n",
        "                  [0, 0, 0, 0, 0, 0, 1]])\n",
        "\n",
        "# Define the set of states A = {4, 5, 6}\n",
        "A_states = [4, 5, 6]\n",
        "\n",
        "# Initialize hitting probabilities\n",
        "hitting_probabilities = np.zeros(graph.shape[0])\n",
        "hitting_probabilities[A_states] = 1  # Set hitting probability to 1 for states in set A\n",
        "\n",
        "# Perform a fixed number of iterations to ensure convergence\n",
        "num_iterations = 1000\n",
        "\n",
        "for _ in range(num_iterations):\n",
        "    updated_probabilities = np.zeros_like(hitting_probabilities)\n",
        "    for state in range(graph.shape[0]):\n",
        "        if state not in A_states:\n",
        "            updated_probabilities[state] = np.dot(graph[state], hitting_probabilities)\n",
        "    hitting_probabilities = updated_probabilities\n",
        "\n",
        "# Print hitting probabilities for states A = {4, 5, 6} from the remaining states\n",
        "print(\"Hitting Probabilities of A = {4, 5, 6} from the remaining states:\")\n",
        "print(hitting_probabilities)\n"
      ],
      "metadata": {
        "colab": {
          "base_uri": "https://localhost:8080/"
        },
        "id": "mvfGf-1wH5rb",
        "outputId": "fc55bc93-0d95-41fd-d5d9-22884304e296"
      },
      "execution_count": null,
      "outputs": [
        {
          "output_type": "stream",
          "name": "stdout",
          "text": [
            "Hitting Probabilities of A = {4, 5, 6} from the remaining states:\n",
            "[8.54161987e-36 0.00000000e+00 6.03983733e-36 0.00000000e+00\n",
            " 0.00000000e+00 0.00000000e+00 0.00000000e+00]\n"
          ]
        }
      ]
    },
    {
      "cell_type": "code",
      "source": [
        "import numpy as np\n",
        "\n",
        "# Define the adjacency matrix representing the graph\n",
        "graph = np.array([[0, 1, 0, 0],\n",
        "                  [0.5, 0, 0.5, 0],\n",
        "                  [0, 0.5, 0, 0.5],\n",
        "                  [0, 0, 0, 1]])\n",
        "\n",
        "# Define the set of states A = {3}\n",
        "A_state = 3\n",
        "\n",
        "# Initialize hitting probabilities\n",
        "hitting_probabilities = np.zeros(graph.shape[0])\n",
        "hitting_probabilities[A_state] = 1  # Set hitting probability to 1 for state A\n",
        "\n",
        "# Perform a fixed number of iterations to ensure convergence\n",
        "num_iterations = 1000\n",
        "\n",
        "for _ in range(num_iterations):\n",
        "    updated_probabilities = np.zeros_like(hitting_probabilities)\n",
        "    for state in range(graph.shape[0]):\n",
        "        if state != A_state:\n",
        "            updated_probabilities[state] = np.dot(graph[state], hitting_probabilities)\n",
        "    hitting_probabilities = updated_probabilities\n",
        "\n",
        "# Print hitting probabilities for state A = {3} from the remaining states\n",
        "print(\"Hitting Probabilities of A = {3} from the remaining states:\")\n",
        "print(hitting_probabilities)\n"
      ],
      "metadata": {
        "colab": {
          "base_uri": "https://localhost:8080/"
        },
        "id": "p0oieLC5IFvQ",
        "outputId": "3c4f5376-d5a0-4958-ba39-d305a67abf44"
      },
      "execution_count": null,
      "outputs": [
        {
          "output_type": "stream",
          "name": "stdout",
          "text": [
            "Hitting Probabilities of A = {3} from the remaining states:\n",
            "[0.00000000e+00 1.13112458e-63 0.00000000e+00 0.00000000e+00]\n"
          ]
        }
      ]
    },
    {
      "cell_type": "code",
      "source": [
        "import numpy as np\n",
        "\n",
        "# Define the adjacency matrix representing the graph\n",
        "graph = np.array([[0, 1, 0, 0],\n",
        "                  [0.5, 0, 0.5, 0],\n",
        "                  [0, 0.5, 0, 0.5],\n",
        "                  [0, 0, 0, 1]])\n",
        "\n",
        "# Define the starting state\n",
        "starting_state = 1\n",
        "\n",
        "# Define the target state\n",
        "target_state = 0\n",
        "\n",
        "# Initialize hitting probabilities\n",
        "hitting_probabilities = np.zeros(graph.shape[0])\n",
        "hitting_probabilities[target_state] = 1  # Set hitting probability to 1 for the target state\n",
        "\n",
        "# Perform iterations until convergence (all probabilities stabilize)\n",
        "while True:\n",
        "    updated_probabilities = np.zeros_like(hitting_probabilities)\n",
        "    for state in range(graph.shape[0]):\n",
        "        updated_probabilities[state] = np.dot(graph[state], hitting_probabilities)\n",
        "    if np.allclose(updated_probabilities, hitting_probabilities):\n",
        "        hitting_probabilities = updated_probabilities\n",
        "        break\n",
        "    hitting_probabilities = updated_probabilities\n",
        "\n",
        "# Print the probability of hitting state 0 starting from state 1\n",
        "print(\"Probability of hitting state 0 starting from state 1:\", hitting_probabilities[starting_state])\n"
      ],
      "metadata": {
        "colab": {
          "base_uri": "https://localhost:8080/"
        },
        "id": "Sye2WqCCIPw5",
        "outputId": "fe02302a-5703-4133-9884-185cedf93fdd"
      },
      "execution_count": null,
      "outputs": [
        {
          "output_type": "stream",
          "name": "stdout",
          "text": [
            "Probability of hitting state 0 starting from state 1: 0.0\n"
          ]
        }
      ]
    },
    {
      "cell_type": "code",
      "source": [
        "import numpy as np\n",
        "\n",
        "# Define the adjacency matrix representing the graph\n",
        "graph = np.array([[0, 1, 0, 0, 0, 0, 0],\n",
        "                  [0.5, 0, 0.5, 0, 0, 0, 0],\n",
        "                  [0, 0.5, 0, 0.5, 0, 0, 0],\n",
        "                  [0, 0, 0.5, 0, 0.5, 0, 0],\n",
        "                  [0, 0, 0, 0, 0, 1, 0],\n",
        "                  [0, 0, 0, 0, 0, 1, 0],\n",
        "                  [0, 0, 0, 0, 0, 0, 1]])\n",
        "\n",
        "# Define the starting state\n",
        "starting_state = 3\n",
        "\n",
        "# Define the target state\n",
        "target_state = 6\n",
        "\n",
        "# Initialize hitting probabilities\n",
        "hitting_probabilities = np.zeros(graph.shape[0])\n",
        "hitting_probabilities[target_state] = 1  # Set hitting probability to 1 for the target state\n",
        "\n",
        "# Perform iterations until convergence (all probabilities stabilize)\n",
        "while True:\n",
        "    updated_probabilities = np.zeros_like(hitting_probabilities)\n",
        "    for state in range(graph.shape[0]):\n",
        "        updated_probabilities[state] = np.dot(graph[state], hitting_probabilities)\n",
        "    if np.allclose(updated_probabilities, hitting_probabilities):\n",
        "        hitting_probabilities = updated_probabilities\n",
        "        break\n",
        "    hitting_probabilities = updated_probabilities\n",
        "\n",
        "# Print the probability of hitting state 6 starting from state 3\n",
        "print(\"Probability of hitting state 6 starting from state 3:\", hitting_probabilities[starting_state])\n"
      ],
      "metadata": {
        "colab": {
          "base_uri": "https://localhost:8080/"
        },
        "id": "-KwIl5SxIaMu",
        "outputId": "70106f5d-038a-4636-b426-aede47471102"
      },
      "execution_count": null,
      "outputs": [
        {
          "output_type": "stream",
          "name": "stdout",
          "text": [
            "Probability of hitting state 6 starting from state 3: 0.0\n"
          ]
        }
      ]
    }
  ]
}