{
  "nbformat": 4,
  "nbformat_minor": 0,
  "metadata": {
    "colab": {
      "provenance": []
    },
    "kernelspec": {
      "name": "python3",
      "display_name": "Python 3"
    },
    "language_info": {
      "name": "python"
    }
  },
  "cells": [
    {
      "cell_type": "markdown",
      "source": [
        "Task 1: You have seen that the SVD of an m × n matrix A gives, among other things, a\n",
        "basis for the range (column space). Compute this for the given matrix.\n",
        "Another way to obtain a basis for the range is using the QR factorization, also implemented\n",
        "in scipy. Carefully go through the linked QR documentation page. Then compute a basis\n",
        "for the column space of a given A using QR, and then using the SVD."
      ],
      "metadata": {
        "id": "22gXxBjTeg6D"
      }
    },
    {
      "cell_type": "code",
      "execution_count": 28,
      "metadata": {
        "id": "mvRB3grbARl0"
      },
      "outputs": [],
      "source": [
        "import numpy as np\n",
        "from scipy.linalg import svd, qr"
      ]
    },
    {
      "cell_type": "code",
      "source": [
        "#Given matrix A\n",
        "A = np.array([[1, -2, 3, -3], [2, -4, 9, -2], [-3, 6, -9, 9]])\n",
        "A"
      ],
      "metadata": {
        "colab": {
          "base_uri": "https://localhost:8080/"
        },
        "id": "le7JAnKJAo78",
        "outputId": "4ab74bb6-ce72-4754-9efd-00de7a65aeea"
      },
      "execution_count": 29,
      "outputs": [
        {
          "output_type": "execute_result",
          "data": {
            "text/plain": [
              "array([[ 1, -2,  3, -3],\n",
              "       [ 2, -4,  9, -2],\n",
              "       [-3,  6, -9,  9]])"
            ]
          },
          "metadata": {},
          "execution_count": 29
        }
      ]
    },
    {
      "cell_type": "code",
      "source": [
        "# Using QR Factorization\n",
        "q, r = qr(A)  # The QR factorization\n",
        "basis_qr = q  # Basis for the column space using QR factorization\n",
        "basis_qr"
      ],
      "metadata": {
        "colab": {
          "base_uri": "https://localhost:8080/"
        },
        "id": "6KD7MYMGA-yO",
        "outputId": "023b9929-1c27-4f00-b146-cd7a353e9710"
      },
      "execution_count": 30,
      "outputs": [
        {
          "output_type": "execute_result",
          "data": {
            "text/plain": [
              "array([[-0.26726124,  0.95618289, -0.11952286],\n",
              "       [-0.53452248, -0.04390192,  0.84401323],\n",
              "       [ 0.80178373,  0.28945968,  0.52283453]])"
            ]
          },
          "metadata": {},
          "execution_count": 30
        }
      ]
    },
    {
      "cell_type": "code",
      "source": [
        "q.T"
      ],
      "metadata": {
        "colab": {
          "base_uri": "https://localhost:8080/"
        },
        "id": "na1qWKEWjZY9",
        "outputId": "c3c69021-6034-49e4-c93a-03efe54b5b8d"
      },
      "execution_count": 31,
      "outputs": [
        {
          "output_type": "execute_result",
          "data": {
            "text/plain": [
              "array([[-0.26726124, -0.53452248,  0.80178373],\n",
              "       [ 0.95618289, -0.04390192,  0.28945968],\n",
              "       [-0.11952286,  0.84401323,  0.52283453]])"
            ]
          },
          "metadata": {},
          "execution_count": 31
        }
      ]
    },
    {
      "cell_type": "code",
      "source": [
        "# Using SVD\n",
        "U, S, vT = svd(A)  #The SVD\n",
        "basis_svd = U  # Basis for the column space using SVD\n",
        "basis_svd"
      ],
      "metadata": {
        "colab": {
          "base_uri": "https://localhost:8080/"
        },
        "id": "d5QXSquWBdGF",
        "outputId": "e602e95f-3e3b-46b7-f588-fd7860c7d82d"
      },
      "execution_count": 32,
      "outputs": [
        {
          "output_type": "execute_result",
          "data": {
            "text/plain": [
              "array([[ 2.66235859e-01,  1.70641342e-01,  9.48683298e-01],\n",
              "       [ 5.39615303e-01, -8.41911709e-01, -5.55111512e-17],\n",
              "       [-7.98707576e-01, -5.11924025e-01,  3.16227766e-01]])"
            ]
          },
          "metadata": {},
          "execution_count": 32
        }
      ]
    },
    {
      "cell_type": "code",
      "source": [
        "U.T"
      ],
      "metadata": {
        "colab": {
          "base_uri": "https://localhost:8080/"
        },
        "id": "4bbhv5vgjOzO",
        "outputId": "85835239-f3d4-4359-e097-c418a76f8258"
      },
      "execution_count": 33,
      "outputs": [
        {
          "output_type": "execute_result",
          "data": {
            "text/plain": [
              "array([[ 2.66235859e-01,  5.39615303e-01, -7.98707576e-01],\n",
              "       [ 1.70641342e-01, -8.41911709e-01, -5.11924025e-01],\n",
              "       [ 9.48683298e-01, -5.55111512e-17,  3.16227766e-01]])"
            ]
          },
          "metadata": {},
          "execution_count": 33
        }
      ]
    },
    {
      "cell_type": "code",
      "source": [
        "# Verify the bases obtained from QR and SVD are the same\n",
        "rank_qr = np.linalg.matrix_rank(basis_qr)\n",
        "rank_svd = np.linalg.matrix_rank(basis_svd)\n",
        "print(\"Rank_qr:\",rank_qr)\n",
        "print(\"Rank_svd:\",rank_svd)"
      ],
      "metadata": {
        "colab": {
          "base_uri": "https://localhost:8080/"
        },
        "id": "6pDx_wc0Bz0q",
        "outputId": "c00d59e8-907a-4f21-ef0b-ea452925ebd4"
      },
      "execution_count": 34,
      "outputs": [
        {
          "output_type": "stream",
          "name": "stdout",
          "text": [
            "Rank_qr: 3\n",
            "Rank_svd: 3\n"
          ]
        }
      ]
    },
    {
      "cell_type": "code",
      "source": [
        "if rank_qr == rank_svd:\n",
        "    print(\"The bases obtained from QR and SVD are identical.\")\n",
        "    print(\"Basis for the column space (range):\")\n",
        "    print(basis_qr)\n",
        "else:\n",
        "    print(\"The bases obtained from QR and SVD are different.\")"
      ],
      "metadata": {
        "colab": {
          "base_uri": "https://localhost:8080/"
        },
        "id": "yVurjDqCCNKf",
        "outputId": "346f81bb-8ce5-4247-cb82-8995b6acff7d"
      },
      "execution_count": 35,
      "outputs": [
        {
          "output_type": "stream",
          "name": "stdout",
          "text": [
            "The bases obtained from QR and SVD are identical.\n",
            "Basis for the column space (range):\n",
            "[[-0.26726124  0.95618289 -0.11952286]\n",
            " [-0.53452248 -0.04390192  0.84401323]\n",
            " [ 0.80178373  0.28945968  0.52283453]]\n"
          ]
        }
      ]
    },
    {
      "cell_type": "markdown",
      "source": [
        "Task 2: Check that the column spaces (not the bases) you obtained in the two ways are the\n",
        "same. (How would you check that two given bases span the same space?)"
      ],
      "metadata": {
        "id": "m-vLiYhmiNYF"
      }
    },
    {
      "cell_type": "code",
      "source": [
        "# Check if column spaces are the same\n",
        "is_same_space = np.all(np.isclose(q @ q.T.conjugate(), U @ U.T.conjugate()))\n",
        "\n",
        "if is_same_space:\n",
        "    print(\"Column spaces obtained from QR factorization and SVD are the same.\")\n",
        "else:\n",
        "    print(\"Column spaces obtained from QR factorization and SVD are different.\")\n"
      ],
      "metadata": {
        "colab": {
          "base_uri": "https://localhost:8080/"
        },
        "id": "CdMsBl8tiXFC",
        "outputId": "86bfb26d-4977-4950-97ce-abcef61afeaa"
      },
      "execution_count": 36,
      "outputs": [
        {
          "output_type": "stream",
          "name": "stdout",
          "text": [
            "Column spaces obtained from QR factorization and SVD are the same.\n"
          ]
        }
      ]
    },
    {
      "cell_type": "markdown",
      "source": [
        "Task 3: For a 500 × 500 random matrix, which method is faster?"
      ],
      "metadata": {
        "id": "2FAOBKeuj9_I"
      }
    },
    {
      "cell_type": "code",
      "source": [
        "import time\n",
        "# Random 500x500 matrix\n",
        "random_matrix = np.random.rand(500, 500)"
      ],
      "metadata": {
        "id": "zGkJaw8Oj-rA"
      },
      "execution_count": 37,
      "outputs": []
    },
    {
      "cell_type": "code",
      "source": [
        "#Time taken for QR factorization\n",
        "start_time_qr = time.time()\n",
        "q, r = qr(random_matrix)\n",
        "end_time_qr = time.time()\n",
        "qr_time = end_time_qr - start_time_qr\n",
        "print(f\"Time taken for QR factorization: {qr_time} seconds\")"
      ],
      "metadata": {
        "colab": {
          "base_uri": "https://localhost:8080/"
        },
        "id": "D-DCPGGXlYZN",
        "outputId": "93365ab5-9f36-45b3-a130-d11ffd6e2594"
      },
      "execution_count": 38,
      "outputs": [
        {
          "output_type": "stream",
          "name": "stdout",
          "text": [
            "Time taken for QR factorization: 0.06507706642150879 seconds\n"
          ]
        }
      ]
    },
    {
      "cell_type": "code",
      "source": [
        "# Time taken for SVD\n",
        "start_time_svd = time.time()\n",
        "U, S, vT = svd(random_matrix)\n",
        "end_time_svd = time.time()\n",
        "svd_time = end_time_svd - start_time_svd\n",
        "print(f\"Time taken for SVD: {svd_time} seconds\")"
      ],
      "metadata": {
        "colab": {
          "base_uri": "https://localhost:8080/"
        },
        "id": "0lLeap_NlYuE",
        "outputId": "05542e83-2c0c-40c7-f8c9-5d0cda4c9f16"
      },
      "execution_count": 39,
      "outputs": [
        {
          "output_type": "stream",
          "name": "stdout",
          "text": [
            "Time taken for SVD: 0.22267675399780273 seconds\n"
          ]
        }
      ]
    },
    {
      "cell_type": "code",
      "source": [
        "if qr_time < svd_time:\n",
        "    print(\"QR factorization is faster.\")\n",
        "elif qr_time > svd_time:\n",
        "    print(\"SVD is faster.\")\n",
        "else:\n",
        "    print(\"Both methods take the same time.\")"
      ],
      "metadata": {
        "colab": {
          "base_uri": "https://localhost:8080/"
        },
        "id": "YmwDhfkClZC7",
        "outputId": "75829029-bec2-4f37-ff50-afa497fd3c2f"
      },
      "execution_count": 40,
      "outputs": [
        {
          "output_type": "stream",
          "name": "stdout",
          "text": [
            "QR factorization is faster.\n"
          ]
        }
      ]
    }
  ]
}