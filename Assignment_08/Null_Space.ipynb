{
  "nbformat": 4,
  "nbformat_minor": 0,
  "metadata": {
    "colab": {
      "provenance": []
    },
    "kernelspec": {
      "name": "python3",
      "display_name": "Python 3"
    },
    "language_info": {
      "name": "python"
    }
  },
  "cells": [
    {
      "cell_type": "code",
      "execution_count": 12,
      "metadata": {
        "id": "7XW2Ij6co-2T"
      },
      "outputs": [],
      "source": [
        "import numpy as np\n",
        "from scipy.linalg import svd, qr"
      ]
    },
    {
      "cell_type": "code",
      "source": [
        "#Given matrix A\n",
        "A = np.array([[1, -2, 9, 5, 4,], [1, -1, 6, 5, -3], [-2, 0, -6, 1, -2],[4, 1, 9, 1, -9]])\n",
        "A"
      ],
      "metadata": {
        "colab": {
          "base_uri": "https://localhost:8080/"
        },
        "id": "tJbmUUnDrQ52",
        "outputId": "db214dd5-e53b-4b43-eab3-8dfebaeef328"
      },
      "execution_count": 13,
      "outputs": [
        {
          "output_type": "execute_result",
          "data": {
            "text/plain": [
              "array([[ 1, -2,  9,  5,  4],\n",
              "       [ 1, -1,  6,  5, -3],\n",
              "       [-2,  0, -6,  1, -2],\n",
              "       [ 4,  1,  9,  1, -9]])"
            ]
          },
          "metadata": {},
          "execution_count": 13
        }
      ]
    },
    {
      "cell_type": "markdown",
      "source": [
        "Task 1: Find the null space of the given matrix A using SVD."
      ],
      "metadata": {
        "id": "M1pfGNycuiZF"
      }
    },
    {
      "cell_type": "code",
      "source": [
        "#SVD\n",
        "u, s, vh = svd(A)"
      ],
      "metadata": {
        "id": "B9drcD24uqVh"
      },
      "execution_count": 14,
      "outputs": []
    },
    {
      "cell_type": "code",
      "source": [
        "# The null space using SDV\n",
        "null_space_svd = vh.T[:, np.where(s < 1e-10)].squeeze()\n",
        "print(\"Null space using SVD:\")\n",
        "print(null_space_svd)"
      ],
      "metadata": {
        "colab": {
          "base_uri": "https://localhost:8080/"
        },
        "id": "J49nAEzMwmK5",
        "outputId": "89ade723-bc6f-4730-adcf-499e847f9bb7"
      },
      "execution_count": 15,
      "outputs": [
        {
          "output_type": "stream",
          "name": "stdout",
          "text": [
            "Null space using SVD:\n",
            "[-0.87219483  0.3573579   0.29073161 -0.14709627 -0.07354813]\n"
          ]
        }
      ]
    },
    {
      "cell_type": "markdown",
      "source": [
        "Task 2: Find the null space of the same matrix A using the QR factorization. Use the linear\n",
        "algebra theorem that tells us that the null space of A is equal to the orthogonal complement\n",
        "of the range of the transpose At . (How would you extract the orthogonal complement from\n",
        "a full QR factorization?)"
      ],
      "metadata": {
        "id": "nUw0zZyEw7VS"
      }
    },
    {
      "cell_type": "code",
      "source": [
        "#QR factorization on the transpose of A\n",
        "q, r = qr(A.T)\n",
        "\n",
        "# Extract the orthogonal complement from QR factorization\n",
        "null_space_qr = q[:, np.where(np.abs(np.diag(r)) < 1e-10)].squeeze()\n",
        "print(\"Null space using QR factorization:\")\n",
        "print(null_space_qr)\n"
      ],
      "metadata": {
        "colab": {
          "base_uri": "https://localhost:8080/"
        },
        "id": "EViORyxg0J4c",
        "outputId": "71c39434-e497-4820-947d-b281aef82af1"
      },
      "execution_count": 16,
      "outputs": [
        {
          "output_type": "stream",
          "name": "stdout",
          "text": [
            "Null space using QR factorization:\n",
            "[ 0.57324869  0.68751498 -0.1910829   0.36021819  0.18010909]\n"
          ]
        }
      ]
    },
    {
      "cell_type": "markdown",
      "source": [
        "Task 3: Check that both answers above span the same space."
      ],
      "metadata": {
        "id": "3Nukdhj81aOM"
      }
    },
    {
      "cell_type": "code",
      "source": [
        "# Check both null spaces span are same ya not\n",
        "span_same_space = np.allclose(null_space_svd, null_space_qr)\n",
        "if span_same_space:\n",
        "    print(\"Both null spaces span the same space.\")\n",
        "else:\n",
        "    print(\"Both null spaces do not span the same space.\")\n",
        ""
      ],
      "metadata": {
        "colab": {
          "base_uri": "https://localhost:8080/"
        },
        "id": "RXWQdzXi1a1Q",
        "outputId": "23b68b42-9db3-48bd-8b7b-572a8009f29a"
      },
      "execution_count": 17,
      "outputs": [
        {
          "output_type": "stream",
          "name": "stdout",
          "text": [
            "Both null spaces do not span the same space.\n"
          ]
        }
      ]
    }
  ]
}