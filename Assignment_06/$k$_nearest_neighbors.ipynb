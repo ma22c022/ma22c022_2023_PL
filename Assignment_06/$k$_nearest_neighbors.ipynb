{
  "nbformat": 4,
  "nbformat_minor": 0,
  "metadata": {
    "colab": {
      "provenance": []
    },
    "kernelspec": {
      "name": "python3",
      "display_name": "Python 3"
    },
    "language_info": {
      "name": "python"
    }
  },
  "cells": [
    {
      "cell_type": "code",
      "execution_count": 2,
      "metadata": {
        "id": "ZhoAeKChiFxn"
      },
      "outputs": [],
      "source": [
        "import numpy as np\n",
        "P = np.array([[0,0], [0.2, 0.22], [0.1, -0.1],\n",
        "\n",
        "[1,1], [1.1, 0.9], [0.8, 0.9], [1.1, 0.63],\n",
        "[0.58, -0.1], [0.63, 0.1], [0.67, -0.3], [0.8,-0.23],\n",
        "[0.8, 0.6]])\n",
        "\n",
        "k = 3"
      ]
    },
    {
      "cell_type": "code",
      "source": [
        "import math\n",
        "\n",
        "# Define two points as tuples (x1, y1) and (x2, y2)\n",
        "point1 = (2.0, 3.0)\n",
        "point2 = (4.0, 7.0)\n",
        "\n",
        "# Calculate the Euclidean distance between the two points\n",
        "distance = math.sqrt((point1[0] - point2[0])**2 + (point1[1] - point2[1])**2)\n",
        "\n",
        "# Print the result\n",
        "print(f\"Euclidean distance between the two points: {distance:.2f}\")\n",
        "\n"
      ],
      "metadata": {
        "colab": {
          "base_uri": "https://localhost:8080/"
        },
        "id": "cLoVbQvEi7s_",
        "outputId": "16f485da-814f-4328-aac9-91620dfd139b"
      },
      "execution_count": 10,
      "outputs": [
        {
          "output_type": "stream",
          "name": "stdout",
          "text": [
            "Euclidean distance between the two points: 4.47\n"
          ]
        }
      ]
    },
    {
      "cell_type": "markdown",
      "source": [
        "Task1: -Write a function that finds, given a fnite set of points in the plane and an integer\n",
        "k, the k nearest neighbors of each point in the set using numpy’s vectorized facilities."
      ],
      "metadata": {
        "id": "52tHqd8TmS3Y"
      }
    },
    {
      "cell_type": "code",
      "source": [
        "def k_nearest_neighbors(points, k):\n",
        "    # Calculate pairwise Euclidean distances between all points\n",
        "    pairwise_distances = np.sqrt(np.sum((points[:, np.newaxis] - points) ** 2, axis=2))\n",
        "\n",
        "    # Set the diagonal elements (distances to self) to a large value\n",
        "    np.fill_diagonal(pairwise_distances, np.inf)\n",
        "\n",
        "    # Get the indices of the k nearest neighbors for each point\n",
        "    k_nearest_indices = np.argsort(pairwise_distances, axis=1)[:, :k]\n",
        "\n",
        "    # Create an array to store the k nearest neighbors for each point\n",
        "    k_nearest_neighbors = np.empty((points.shape[0], k, points.shape[1]))\n",
        "\n",
        "    # Populate the k nearest neighbors array\n",
        "    for i in range(points.shape[0]):\n",
        "        k_nearest_neighbors[i] = points[k_nearest_indices[i]]\n",
        "\n",
        "    return k_nearest_neighbors\n"
      ],
      "metadata": {
        "id": "OnDkdeTGlpua"
      },
      "execution_count": 11,
      "outputs": []
    },
    {
      "cell_type": "code",
      "source": [
        "# Example usage with your data and k=3\n",
        "P = np.array([[0,0], [0.2, 0.22], [0.1, -0.1], [1,1], [1.1, 0.9], [0.8, 0.9], [1.1, 0.63], [0.58, -0.1], [0.63, 0.1], [0.67, -0.3], [0.8,-0.23], [0.8, 0.6]])\n",
        "k = 3\n",
        "\n",
        "k_nearest = k_nearest_neighbors(P, k)\n",
        "print(\"K Nearest Neighbors:\")\n",
        "print(k_nearest)\n"
      ],
      "metadata": {
        "colab": {
          "base_uri": "https://localhost:8080/"
        },
        "id": "Cc1CgJ_2l0Ma",
        "outputId": "d167fb0f-099e-4ce4-d3a0-4f3f8ac2d1f8"
      },
      "execution_count": 14,
      "outputs": [
        {
          "output_type": "stream",
          "name": "stdout",
          "text": [
            "K Nearest Neighbors:\n",
            "[[[ 0.1  -0.1 ]\n",
            "  [ 0.2   0.22]\n",
            "  [ 0.58 -0.1 ]]\n",
            "\n",
            " [[ 0.    0.  ]\n",
            "  [ 0.1  -0.1 ]\n",
            "  [ 0.63  0.1 ]]\n",
            "\n",
            " [[ 0.    0.  ]\n",
            "  [ 0.2   0.22]\n",
            "  [ 0.58 -0.1 ]]\n",
            "\n",
            " [[ 1.1   0.9 ]\n",
            "  [ 0.8   0.9 ]\n",
            "  [ 1.1   0.63]]\n",
            "\n",
            " [[ 1.    1.  ]\n",
            "  [ 1.1   0.63]\n",
            "  [ 0.8   0.9 ]]\n",
            "\n",
            " [[ 1.    1.  ]\n",
            "  [ 1.1   0.9 ]\n",
            "  [ 0.8   0.6 ]]\n",
            "\n",
            " [[ 1.1   0.9 ]\n",
            "  [ 0.8   0.6 ]\n",
            "  [ 1.    1.  ]]\n",
            "\n",
            " [[ 0.63  0.1 ]\n",
            "  [ 0.67 -0.3 ]\n",
            "  [ 0.8  -0.23]]\n",
            "\n",
            " [[ 0.58 -0.1 ]\n",
            "  [ 0.8  -0.23]\n",
            "  [ 0.67 -0.3 ]]\n",
            "\n",
            " [[ 0.8  -0.23]\n",
            "  [ 0.58 -0.1 ]\n",
            "  [ 0.63  0.1 ]]\n",
            "\n",
            " [[ 0.67 -0.3 ]\n",
            "  [ 0.58 -0.1 ]\n",
            "  [ 0.63  0.1 ]]\n",
            "\n",
            " [[ 0.8   0.9 ]\n",
            "  [ 1.1   0.63]\n",
            "  [ 1.1   0.9 ]]]\n"
          ]
        }
      ]
    },
    {
      "cell_type": "markdown",
      "source": [
        "Task 2: Apply your function to this set of points with k = 3. Plot an arrow from each point\n",
        "to its k-nearest neighbors."
      ],
      "metadata": {
        "id": "uhBVwwLxmpnk"
      }
    },
    {
      "cell_type": "code",
      "source": [
        "import numpy as np\n",
        "import matplotlib.pyplot as plt\n",
        "\n",
        "def k_nearest_neighbors(points, k):\n",
        "    # Calculate pairwise Euclidean distances between all points\n",
        "    pairwise_distances = np.sqrt(np.sum((points[:, np.newaxis] - points) ** 2, axis=2))\n",
        "\n",
        "    # Set the diagonal elements (distances to self) to a large value\n",
        "    np.fill_diagonal(pairwise_distances, np.inf)\n",
        "\n",
        "    # Get the indices of the k nearest neighbors for each point\n",
        "    k_nearest_indices = np.argsort(pairwise_distances, axis=1)[:, :k]\n",
        "\n",
        "    # Create an array to store the k nearest neighbors for each point\n",
        "    k_nearest_neighbors = np.empty((points.shape[0], k, points.shape[1]))\n",
        "\n",
        "    # Populate the k nearest neighbors array\n",
        "    for i in range(points.shape[0]):\n",
        "        k_nearest_neighbors[i] = points[k_nearest_indices[i]]\n",
        "\n",
        "    return k_nearest_neighbors\n",
        "\n",
        "# Example usage with your data and k=3\n",
        "P = np.array([[0,0], [0.2, 0.22], [0.1, -0.1], [1,1], [1.1, 0.9], [0.8, 0.9], [1.1, 0.63], [0.58, -0.1], [0.63, 0.1], [0.67, -0.3], [0.8,-0.23], [0.8, 0.6]])\n",
        "k = 3\n",
        "\n",
        "k_nearest = k_nearest_neighbors(P, k)\n",
        "\n",
        "# Plotting the points\n",
        "plt.scatter(P[:, 0], P[:, 1], c='blue', label='Points')\n",
        "\n",
        "# Plotting arrows from each point to its k-nearest neighbors\n",
        "for i in range(P.shape[0]):\n",
        "    for j in range(k):\n",
        "        plt.arrow(P[i, 0], P[i, 1], k_nearest[i, j, 0] - P[i, 0], k_nearest[i, j, 1] - P[i, 1],\n",
        "                  head_width=0.005, head_length=0.01, fc='yellow', ec='yellow', alpha=0.5)\n",
        "\n",
        "plt.xlabel('X')\n",
        "plt.ylabel('Y')\n",
        "plt.title('K Nearest Neighbors')\n",
        "plt.legend()\n",
        "plt.grid(True)\n",
        "plt.show()"
      ],
      "metadata": {
        "colab": {
          "base_uri": "https://localhost:8080/",
          "height": 472
        },
        "id": "hcmfUMW3mHFn",
        "outputId": "6b5af75c-1865-47cb-821e-68cafe832841"
      },
      "execution_count": 15,
      "outputs": [
        {
          "output_type": "display_data",
          "data": {
            "text/plain": [
              "<Figure size 640x480 with 1 Axes>"
            ],
            "image/png": "[encoded data removed]"
          },
          "metadata": {}
        }
      ]
    },
    {
      "cell_type": "markdown",
      "source": [],
      "metadata": {
        "id": "o11Oh18jmoEk"
      }
    }
  ]
}