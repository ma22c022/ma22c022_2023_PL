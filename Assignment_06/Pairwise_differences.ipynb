{
  "nbformat": 4,
  "nbformat_minor": 0,
  "metadata": {
    "colab": {
      "provenance": []
    },
    "kernelspec": {
      "name": "python3",
      "display_name": "Python 3"
    },
    "language_info": {
      "name": "python"
    }
  },
  "cells": [
    {
      "cell_type": "code",
      "execution_count": 5,
      "metadata": {
        "colab": {
          "base_uri": "https://localhost:8080/"
        },
        "id": "6egg4IPTfZXf",
        "outputId": "3598b8b7-66c4-4f9b-b5fe-482aabdf7382"
      },
      "outputs": [
        {
          "output_type": "stream",
          "name": "stdout",
          "text": [
            "[[ 0.          0.23258053  0.31034264  0.44972007  0.3738695 ]\n",
            " [-0.23258053  0.          0.07776211  0.21713955  0.14128897]\n",
            " [-0.31034264 -0.07776211  0.          0.13937744  0.06352686]\n",
            " [-0.44972007 -0.21713955 -0.13937744  0.         -0.07585058]\n",
            " [-0.3738695  -0.14128897 -0.06352686  0.07585058  0.        ]]\n"
          ]
        }
      ],
      "source": [
        "import numpy as np\n",
        "\n",
        "x = np.random.rand(5) #generates a 1D NumPy array x of length 5 filled with random numbers between 0 and 1 using the np.random.rand function.\n",
        "\n",
        "D = np.subtract.outer(x, x)  #np.subtract.outer(x, x) will be a 2D array where each element at position [i][j] represents the result of subtracting x[i] from x[j].\n",
        "print(D)"
      ]
    },
    {
      "cell_type": "code",
      "source": [
        "import numpy as np\n",
        "x = np.random.rand(5)\n",
        "D = np.array([[xi - xj for xj in x] for xi in x])\n",
        "print(D)"
      ],
      "metadata": {
        "colab": {
          "base_uri": "https://localhost:8080/"
        },
        "id": "zy0JTRVDgedE",
        "outputId": "53bf58ff-cade-4005-ba35-61dc8e714e39"
      },
      "execution_count": 8,
      "outputs": [
        {
          "output_type": "stream",
          "name": "stdout",
          "text": [
            "[[ 0.         -0.04335176  0.50332562  0.11618553  0.42326909]\n",
            " [ 0.04335176  0.          0.54667738  0.15953729  0.46662084]\n",
            " [-0.50332562 -0.54667738  0.         -0.38714009 -0.08005654]\n",
            " [-0.11618553 -0.15953729  0.38714009  0.          0.30708356]\n",
            " [-0.42326909 -0.46662084  0.08005654 -0.30708356  0.        ]]\n"
          ]
        }
      ]
    }
  ]
}