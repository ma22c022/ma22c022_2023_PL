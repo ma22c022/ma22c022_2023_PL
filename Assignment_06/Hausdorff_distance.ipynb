{
  "nbformat": 4,
  "nbformat_minor": 0,
  "metadata": {
    "colab": {
      "provenance": []
    },
    "kernelspec": {
      "name": "python3",
      "display_name": "Python 3"
    },
    "language_info": {
      "name": "python"
    }
  },
  "cells": [
    {
      "cell_type": "code",
      "execution_count": 1,
      "metadata": {
        "id": "iLj4HJVea-1v"
      },
      "outputs": [],
      "source": [
        "import numpy as np\n",
        "\n",
        "# Generate random points for P and Q\n",
        "P = np.random.rand(5, 2)\n",
        "Q = np.random.rand(7, 2)"
      ]
    },
    {
      "cell_type": "code",
      "source": [
        "def euclidean_distance(p1, p2):#this function compute 2-norm of vector(p1-p2)\n",
        "    sum=0\n",
        "    for i in range(2):\n",
        "      sum+=pow(p1[i]-p2[i],2)\n",
        "    return math.sqrt(sum)\n"
      ],
      "metadata": {
        "id": "eYO9jkF3buED"
      },
      "execution_count": 5,
      "outputs": []
    },
    {
      "cell_type": "code",
      "source": [
        "#Calculate the Hausdorff distance\n",
        "def hausdorff_distance(P, Q):\n",
        "    max_distance = 0\n",
        "\n",
        "    # Calculate the maximum distance from P to Q\n",
        "    for p in P:\n",
        "        min_distance = np.inf\n",
        "        for q in Q:\n",
        "            distance = np.linalg.norm(p - q)\n",
        "            min_distance = min(min_distance, distance)\n",
        "        max_distance = max(max_distance, min_distance)\n",
        "\n",
        "    # Calculate the maximum distance from Q to P\n",
        "    for q in Q:\n",
        "        min_distance = np.inf\n",
        "        for p in P:\n",
        "            distance = np.linalg.norm(q - p)\n",
        "            min_distance = min(min_distance, distance)\n",
        "        max_distance = max(max_distance, min_distance)\n",
        "\n",
        "    return max_distance\n",
        "\n",
        "#Calculate the Hausdorff distance between P and Q\n",
        "hausdorff_dist = hausdorff_distance(P, Q)\n",
        "\n",
        "#Output the result\n",
        "print(f'Hausdorff Distance between P and Q: {hausdorff_dist}')\n"
      ],
      "metadata": {
        "colab": {
          "base_uri": "https://localhost:8080/"
        },
        "id": "5tbpVFgHdyWe",
        "outputId": "15b89267-9a16-4b90-ae23-8b088d1e54bd"
      },
      "execution_count": 6,
      "outputs": [
        {
          "output_type": "stream",
          "name": "stdout",
          "text": [
            "Hausdorff Distance between P and Q: 0.6239296343093547\n"
          ]
        }
      ]
    }
  ]
}