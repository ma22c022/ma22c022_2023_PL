{
  "nbformat": 4,
  "nbformat_minor": 0,
  "metadata": {
    "colab": {
      "provenance": []
    },
    "kernelspec": {
      "name": "python3",
      "display_name": "Python 3"
    },
    "language_info": {
      "name": "python"
    }
  },
  "cells": [
    {
      "cell_type": "code",
      "execution_count": 2,
      "metadata": {
        "id": "sKYUOjN1yeNr"
      },
      "outputs": [],
      "source": [
        "import os\n",
        "import urllib\n",
        "import shutil\n",
        "import numpy as np\n"
      ]
    },
    {
      "cell_type": "code",
      "source": [
        "# The file is located here:\n",
        "url = \"https://snap.stanford.edu/data/web-Google.txt.gz\""
      ],
      "metadata": {
        "id": "F09THyqwzaFr"
      },
      "execution_count": 3,
      "outputs": []
    },
    {
      "cell_type": "code",
      "source": [
        "# Download and copy it here using the code below:\n",
        "f= 'web-Google.txt.gz'\n",
        "\n",
        "if not os.path.exists(f):\n",
        "    r = urllib.request.urlopen(url)\n",
        "    with open(f, 'wb') as fo:\n",
        "        shutil.copyfileobj(r, fo)"
      ],
      "metadata": {
        "id": "urQqfcqeznbY"
      },
      "execution_count": 4,
      "outputs": []
    },
    {
      "cell_type": "code",
      "source": [
        "import gzip"
      ],
      "metadata": {
        "id": "TrQbSH7-4_Dd"
      },
      "execution_count": 5,
      "outputs": []
    },
    {
      "cell_type": "code",
      "source": [
        "# Load the graph data from the file\n",
        "def load_Gdata(filename):\n",
        "    # Initialize an empty dictionary to represent the graph\n",
        "    graph = {}\n",
        "\n",
        "    # Open the gzip-compressed file for reading\n",
        "    with gzip.open(filename, 'rt') as file:\n",
        "        # Iterate through each line in the file\n",
        "        for line in file:\n",
        "            # Skip lines starting with \"#\"\n",
        "            if line.startswith(\"#\"):\n",
        "                continue\n",
        "            else:\n",
        "                # Split the line into parts and convert them to integers\n",
        "                parts = line.strip().split()\n",
        "                source, target = int(parts[0]), int(parts[1])\n",
        "\n",
        "                # If the source is not in the graph, add it with an empty list\n",
        "                if source not in graph:\n",
        "                    graph[source] = []\n",
        "\n",
        "                # Append the target to the source's list in the graph\n",
        "                graph[source].append(target)\n",
        "\n",
        "    # Return the constructed graph\n",
        "    return graph\n"
      ],
      "metadata": {
        "id": "uilPnN7Ezp36"
      },
      "execution_count": 6,
      "outputs": []
    },
    {
      "cell_type": "code",
      "source": [
        "graph = load_Gdata(f)"
      ],
      "metadata": {
        "id": "uPWf7t4758_a"
      },
      "execution_count": 7,
      "outputs": []
    },
    {
      "cell_type": "code",
      "source": [
        "# Initialize PageRank values for all vertices\n",
        "num_vertices = len(graph)\n",
        "pagerank = np.ones(num_vertices) / num_vertices"
      ],
      "metadata": {
        "id": "7j2gMdl86Eam"
      },
      "execution_count": 8,
      "outputs": []
    },
    {
      "cell_type": "code",
      "source": [
        "# Implement the power iteration method to compute PageRank\n",
        "def power_iteration(graph, damping_factor=0.85, num_iterations=100):\n",
        "    # Get the number of vertices in the graph\n",
        "    num_vertices = len(graph)\n",
        "\n",
        "    # Initialize the pagerank vector with equal probabilities for each vertex\n",
        "    initial_pagerank = np.ones(num_vertices) / num_vertices\n",
        "\n",
        "    # Perform power iteration for a specified number of iterations\n",
        "    for _ in range(num_iterations):\n",
        "        # Initialize a new pagerank vector\n",
        "        new_pagerank = np.zeros(num_vertices)\n",
        "\n",
        "        # Update pageranks based on the graph structure\n",
        "        for vertex in graph:\n",
        "            num_neighbors = len(graph[vertex])\n",
        "            if num_neighbors == 0:\n",
        "                new_pagerank += damping_factor * initial_pagerank[vertex] / num_vertices\n",
        "            else:\n",
        "                for neighbor in graph[vertex]:\n",
        "                    new_pagerank[neighbor] += damping_factor * initial_pagerank[vertex] / num_neighbors\n",
        "\n",
        "        # Apply damping factor and add the teleportation probability\n",
        "        new_pagerank += (1 - damping_factor) / num_vertices\n",
        "\n",
        "        # Update the initial pagerank vector for the next iteration\n",
        "        initial_pagerank = new_pagerank\n",
        "\n",
        "    # Return the final computed pagerank vector\n",
        "    return initial_pagerank\n"
      ],
      "metadata": {
        "id": "3tcLOVYh6J8R"
      },
      "execution_count": 9,
      "outputs": []
    },
    {
      "cell_type": "code",
      "source": [
        "# Initialize PageRank values for all vertices\n",
        "num_vertices = len(graph)\n",
        "pagerank = np.ones(num_vertices) / num_vertices\n",
        ""
      ],
      "metadata": {
        "id": "jaKJiMoL6kKg"
      },
      "execution_count": 10,
      "outputs": []
    },
    {
      "cell_type": "code",
      "source": [
        "pagerank\n",
        ""
      ],
      "metadata": {
        "colab": {
          "base_uri": "https://localhost:8080/"
        },
        "id": "Hf-4kaDP6sW3",
        "outputId": "058509de-d089-4737-a5fe-856ba7ae10cd"
      },
      "execution_count": 11,
      "outputs": [
        {
          "output_type": "execute_result",
          "data": {
            "text/plain": [
              "array([1.35234917e-06, 1.35234917e-06, 1.35234917e-06, ...,\n",
              "       1.35234917e-06, 1.35234917e-06, 1.35234917e-06])"
            ]
          },
          "metadata": {},
          "execution_count": 11
        }
      ]
    }
  ]
}