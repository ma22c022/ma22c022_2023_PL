{
  "nbformat": 4,
  "nbformat_minor": 0,
  "metadata": {
    "colab": {
      "provenance": []
    },
    "kernelspec": {
      "name": "python3",
      "display_name": "Python 3"
    },
    "language_info": {
      "name": "python"
    }
  },
  "cells": [
    {
      "cell_type": "markdown",
      "source": [
        "Task 1: Compute the stationary distribution of the Markov chain from Gambler’s ruin with\n",
        "p = 0.4, N = 10. (Do this task with eig.) Do you get more than one stationary distribution?\n"
      ],
      "metadata": {
        "id": "GcMW1pcDhYd8"
      }
    },
    {
      "cell_type": "code",
      "source": [
        "import numpy as np\n",
        "\n",
        "p = 0.4\n",
        "N = 10\n",
        "\n",
        "# Create the transition matrix P\n",
        "P = np.zeros((N + 1, N + 1))\n",
        "for i in range(N + 1):\n",
        "    P[i, i] = 1 - p\n",
        "    if i < N:\n",
        "        P[i, i + 1] = p\n",
        "    if i > 0:\n",
        "        P[i, i - 1] = 1 - p\n",
        "\n",
        "# Use eig to find the stationary distribution\n",
        "eigenvalues, eigenvectors = np.linalg.eig(P.T)\n",
        "stationary_distribution = np.real(eigenvectors[:, 0] / np.sum(eigenvectors[:, 0]))\n",
        "\n",
        "print(\"Stationary Distribution:\")\n",
        "print(stationary_distribution)\n"
      ],
      "metadata": {
        "colab": {
          "base_uri": "https://localhost:8080/"
        },
        "id": "_MWQjrwMi4_s",
        "outputId": "3469cfae-3963-46da-e90d-e8cfc7038893"
      },
      "execution_count": 2,
      "outputs": [
        {
          "output_type": "stream",
          "name": "stdout",
          "text": [
            "Stationary Distribution:\n",
            "[ 2.98220472 -4.70398142  5.43168988 -5.43168988  4.94655091 -4.18131682\n",
            "  3.29770061 -2.41408439  1.6093896  -0.92918152  0.39271832]\n"
          ]
        }
      ]
    },
    {
      "cell_type": "markdown",
      "source": [
        "Task 2: Consider the adjacency matrix (independent of p) of the random walk and intro-\n",
        "duce a restart probability. Using it, compute the pagerank for all states of the Markov chain\n",
        "\n",
        "with N = 10 and restart probabilities r = 0.1, 0.01, 10−3, and 10−4."
      ],
      "metadata": {
        "id": "t5lh_baPi7sq"
      }
    },
    {
      "cell_type": "code",
      "source": [
        "import numpy as np\n",
        "\n",
        "N = 10\n",
        "r_values = [0.1, 0.01, 1e-3, 1e-4]\n",
        "\n",
        "for r in r_values:\n",
        "    # Create the transition matrix P\n",
        "    P = np.zeros((N + 1, N + 1))\n",
        "    for i in range(N + 1):\n",
        "        P[i, i] = (1 - r) / (N + 1)\n",
        "        for j in range(N + 1):\n",
        "            if i != j:\n",
        "                P[i, j] = r / N\n",
        "\n",
        "    # Use eig to find the stationary distribution\n",
        "    eigenvalues, eigenvectors = np.linalg.eig(P.T)\n",
        "    pagerank = np.real(eigenvectors[:, 0] / np.sum(eigenvectors[:, 0]))\n",
        "\n",
        "    # Print the results\n",
        "    print(f\"PageRank for r = {r}:\")\n",
        "    print(pagerank)\n",
        "    print()\n"
      ],
      "metadata": {
        "colab": {
          "base_uri": "https://localhost:8080/"
        },
        "id": "2JtSpJ5sjBVC",
        "outputId": "56351715-b888-4872-eccc-916030a78d33"
      },
      "execution_count": 3,
      "outputs": [
        {
          "output_type": "stream",
          "name": "stdout",
          "text": [
            "PageRank for r = 0.1:\n",
            "[ 2.64247001e+15 -2.64247001e+14 -2.64247001e+14 -2.64247001e+14\n",
            " -2.64247001e+14 -2.64247001e+14 -2.64247001e+14 -2.64247001e+14\n",
            " -2.64247001e+14 -2.64247001e+14 -2.64247001e+14]\n",
            "\n",
            "PageRank for r = 0.01:\n",
            "[ 3.15156973e+14 -3.15156973e+13 -3.15156973e+13 -3.15156973e+13\n",
            " -3.15156973e+13 -3.15156973e+13 -3.15156973e+13 -3.15156973e+13\n",
            " -3.15156973e+13 -3.15156973e+13 -3.15156973e+13]\n",
            "\n",
            "PageRank for r = 0.001:\n",
            "[-2.52218136e+13  2.52218136e+12  2.52218136e+12  2.52218136e+12\n",
            "  2.52218136e+12  2.52218136e+12  2.52218136e+12  2.52218136e+12\n",
            "  2.52218136e+12  2.52218136e+12  2.52218136e+12]\n",
            "\n",
            "PageRank for r = 0.0001:\n",
            "[-2.25407547e+12  2.25407547e+11  2.25407547e+11  2.25407547e+11\n",
            "  2.25407547e+11  2.25407547e+11  2.25407547e+11  2.25407547e+11\n",
            "  2.25407547e+11  2.25407547e+11  2.25407547e+11]\n",
            "\n"
          ]
        }
      ]
    },
    {
      "cell_type": "markdown",
      "source": [
        "Task 3: Compute the pagerank of the ruin state for r = 0.1, N = 1000. How much farther\n",
        "can you go increasing N in your computing environment, while continuing to use eig?"
      ],
      "metadata": {
        "id": "OYPj02BQjblX"
      }
    },
    {
      "cell_type": "code",
      "source": [
        "import numpy as np\n",
        "\n",
        "def powerP(x, aPt, r=0.1, maxn=1000, tol=1e-10):\n",
        "    n = 1\n",
        "    prev_x = x\n",
        "\n",
        "    while n <= maxn:\n",
        "        x = (1 - r) * aPt(x) + r / len(x)\n",
        "        x /= np.linalg.norm(x, 1)\n",
        "\n",
        "        if np.linalg.norm(x - prev_x, 1) < tol:\n",
        "            return x\n",
        "\n",
        "        prev_x = x\n",
        "        n += 1\n",
        "\n",
        "    return x\n",
        "\n",
        "# Define the parameters\n",
        "N = 100000\n",
        "r = 0.1\n",
        "\n",
        "# Define a function to apply Pt to a vector\n",
        "def apply_Pt(x):\n",
        "    # Define the transition matrix P here...\n",
        "    return P.T @ x\n",
        "\n",
        "# Create the transition matrix P (in this case, a simple example)\n",
        "P = np.zeros((N + 1, N + 1))\n",
        "for i in range(N + 1):\n",
        "    P[i, i] = 1.0 / (N + 1)\n",
        "    if i < N:\n",
        "        P[i, i + 1] = r\n",
        "        P[i, i] = 1 - r\n",
        "\n",
        "# Initialize the initial probability distribution (random)\n",
        "initial_distribution = np.random.rand(N + 1)\n",
        "initial_distribution /= np.sum(initial_distribution)\n",
        "\n",
        "# Compute the PageRank using the power method\n",
        "pagerank = powerP(initial_distribution, apply_Pt, r=r)\n",
        "\n",
        "print(\"PageRank for r =\", r, \"and N =\", N, \"for the ruin state:\")\n",
        "print(pagerank)\n"
      ],
      "metadata": {
        "colab": {
          "base_uri": "https://localhost:8080/"
        },
        "id": "Dgoy_ZGcjdJj",
        "outputId": "2867f06e-2c71-4e43-a288-5b16b789bb97"
      },
      "execution_count": 4,
      "outputs": [
        {
          "output_type": "stream",
          "name": "stdout",
          "text": [
            "PageRank for r = 0.1 and N = 100000 for the ruin state:\n",
            "[5.26315263e-06 7.75624737e-06 8.93719761e-06 ... 1.00000710e-05\n",
            " 1.00000710e-05 1.90001674e-06]\n"
          ]
        }
      ]
    },
    {
      "cell_type": "markdown",
      "source": [
        "Task 4: Implement the power method for a positive stochastic matrix P as a python func-\n",
        "tion"
      ],
      "metadata": {
        "id": "kki1tpb_kRUr"
      }
    },
    {
      "cell_type": "code",
      "source": [
        "import numpy as np\n",
        "\n",
        "def powerP(x, aPt, r=0.1, maxn=1000, tol=1e-10):\n",
        "    n = 1\n",
        "    prev_x = x\n",
        "\n",
        "    while n <= maxn:\n",
        "        x = (1 - r) * aPt(x) + r / len(x)\n",
        "        x /= np.linalg.norm(x, 1)\n",
        "\n",
        "        if np.linalg.norm(x - prev_x, 1) < tol:\n",
        "            return x\n",
        "\n",
        "        prev_x = x\n",
        "        n += 1\n",
        "\n",
        "    return x\n",
        "\n",
        "# Define a function to apply Pt to a vector\n",
        "def apply_Pt(x):\n",
        "    return P.T @ x\n",
        "\n",
        "# Example usage\n",
        "N = 100000\n",
        "r = 0.1\n",
        "P = np.zeros((N + 1, N + 1))\n",
        "# Define the transition matrix P here...\n",
        "\n",
        "# Fill in the values of the transition matrix P based on your problem\n",
        "\n",
        "initial_distribution = np.ones(N + 1) / (N + 1)\n",
        "pagerank = powerP(initial_distribution, apply_Pt, r=r)\n",
        "print(\"PageRank for r = 0.1 and N = 100000:\")\n",
        "print(pagerank)\n"
      ],
      "metadata": {
        "colab": {
          "base_uri": "https://localhost:8080/"
        },
        "id": "n-ndwYMdkxBH",
        "outputId": "5c2bd44f-d0b7-44da-9e80-9689c4dce25c"
      },
      "execution_count": 5,
      "outputs": [
        {
          "output_type": "stream",
          "name": "stdout",
          "text": [
            "PageRank for r = 0.1 and N = 100000:\n",
            "[9.9999e-06 9.9999e-06 9.9999e-06 ... 9.9999e-06 9.9999e-06 9.9999e-06]\n"
          ]
        }
      ]
    }
  ]
}