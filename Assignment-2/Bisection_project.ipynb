{
  "nbformat": 4,
  "nbformat_minor": 0,
  "metadata": {
    "colab": {
      "provenance": []
    },
    "kernelspec": {
      "name": "python3",
      "display_name": "Python 3"
    },
    "language_info": {
      "name": "python"
    }
  },
  "cells": [
    {
      "cell_type": "code",
      "execution_count": 1,
      "metadata": {
        "colab": {
          "base_uri": "https://localhost:8080/"
        },
        "id": "Zid3zbmx-DOA",
        "outputId": "c386574f-310c-435a-ed2f-782b9e34e158"
      },
      "outputs": [
        {
          "output_type": "stream",
          "name": "stdout",
          "text": [
            "a= 1\n",
            "b= 2\n",
            "eps= 1e-10\n",
            "1.5707963267923333\n"
          ]
        }
      ],
      "source": [
        "from math import cos,sin\n",
        "\n",
        "a=float(input(\"a= \"))\n",
        "b=float(input(\"b= \"))\n",
        "eps=float(input(\"eps= \"))\n",
        "niters=100\n",
        "\n",
        "def func():\n",
        "  return cos\n",
        "\n",
        "f=func()\n",
        "\n",
        "\n",
        "def bisection_method(f,a,b,eps,niters):\n",
        "\n",
        "\n",
        "    \"\"\"f:The function for which to find the root.\n",
        "    a:The left endpoint of the interval.\n",
        "    b:The right endpoint of the interval.\n",
        "    eps:The tolerance for the root.\n",
        "    niters:The maximum number of iterations to perform.\"\"\"\n",
        "\n",
        "    if f(a) * f(b) >= 0:\n",
        "        print(\"Error: The function values at the endpoints must have different signs.\")\n",
        "    else:\n",
        "        iteration = 0\n",
        "        c = (a + b) / 2\n",
        "        while (b - a) / 2 > eps and iteration < niters :\n",
        "            if f(c) == 0:\n",
        "                print(c)\n",
        "            elif f(c) * f(a) < 0:\n",
        "                b = c\n",
        "            else:\n",
        "                a = c\n",
        "            iteration += 1\n",
        "            c = (a + b) / 2\n",
        "        print(c)\n",
        "\n",
        "bisection_method(f,a,b,eps,niters)"
      ]
    }
  ]
}