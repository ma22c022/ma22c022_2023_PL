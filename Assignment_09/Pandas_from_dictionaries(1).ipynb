{
  "nbformat": 4,
  "nbformat_minor": 0,
  "metadata": {
    "colab": {
      "provenance": []
    },
    "kernelspec": {
      "name": "python3",
      "display_name": "Python 3"
    },
    "language_info": {
      "name": "python"
    }
  },
  "cells": [
    {
      "cell_type": "code",
      "execution_count": null,
      "metadata": {
        "colab": {
          "base_uri": "https://localhost:8080/"
        },
        "id": "XH8Rltahfe32",
        "outputId": "052f0993-5c0e-459c-a4c6-3e69f93c11a0"
      },
      "outputs": [
        {
          "output_type": "stream",
          "name": "stdout",
          "text": [
            "2    a\n",
            "1    b\n",
            "3    c\n",
            "dtype: object\n"
          ]
        }
      ],
      "source": [
        "import pandas as pd\n",
        "\n",
        "d0 = {2: 'a', 1: 'b', 3: 'c'}# Dictionary with keys 2, 1, and 3, and corresponding values 'a', 'b', and 'c'\n",
        "pd0 = pd.Series(d0)#create a pandas Series from this dictionary\n",
        "print(pd0)#Print pandas series\n"
      ]
    },
    {
      "cell_type": "code",
      "source": [
        "pd0 = pd0.sort_index()# Sort the Pandas Series by its index\n",
        "# Print the sorted Pandas Series\n",
        "print(\"Sorted Pandas Series:\")\n",
        "print(pd0)\n"
      ],
      "metadata": {
        "colab": {
          "base_uri": "https://localhost:8080/"
        },
        "id": "lnkUEQ5lg_Rm",
        "outputId": "1ad510a1-8023-48c3-cc24-84808c661ec8"
      },
      "execution_count": null,
      "outputs": [
        {
          "output_type": "stream",
          "name": "stdout",
          "text": [
            "Sorted Pandas Series:\n",
            "1    b\n",
            "2    a\n",
            "3    c\n",
            "dtype: object\n"
          ]
        }
      ]
    },
    {
      "cell_type": "code",
      "source": [
        "d1 = {'a': 1, 'b': 2}\n",
        "d2 = {'b': 3, 'c': 4}\n",
        "# Create Pandas Series from d1 and d2\n",
        "pd1 = pd.Series(d1)\n",
        "pd2 = pd.Series(d2)\n",
        "# Concatenate the Series into a DataFrame with labeled columns 'd1' and 'd2'\n",
        "df = pd.concat([pd1, pd2], axis=1, keys=['d1', 'd2'])\n",
        "\n",
        "# Print the resulting DataFrame\n",
        "print(\"Concatenated DataFrame:\")\n",
        "print(df)\n",
        "\n"
      ],
      "metadata": {
        "colab": {
          "base_uri": "https://localhost:8080/"
        },
        "id": "ParZDI2QhVKC",
        "outputId": "5b76e7eb-c5e6-4019-e811-2cb480558a9a"
      },
      "execution_count": null,
      "outputs": [
        {
          "output_type": "stream",
          "name": "stdout",
          "text": [
            "Concatenated DataFrame:\n",
            "    d1   d2\n",
            "a  1.0  NaN\n",
            "b  2.0  3.0\n",
            "c  NaN  4.0\n"
          ]
        }
      ]
    },
    {
      "cell_type": "code",
      "source": [
        "# Access the 'd1' column from the concatenated DataFrame\n",
        "column_d1 = df['d1']\n",
        "print(\"Column 'd1' from Concatenated DataFrame:\")\n",
        "print(column_d1)\n"
      ],
      "metadata": {
        "colab": {
          "base_uri": "https://localhost:8080/"
        },
        "id": "phzkl7UJiCXi",
        "outputId": "539e1564-0d75-45fd-8d04-956cd4e57b4f"
      },
      "execution_count": null,
      "outputs": [
        {
          "output_type": "stream",
          "name": "stdout",
          "text": [
            "Column 'd1' from Concatenated DataFrame:\n",
            "a    1.0\n",
            "b    2.0\n",
            "c    NaN\n",
            "Name: d1, dtype: float64\n"
          ]
        }
      ]
    },
    {
      "cell_type": "code",
      "source": [
        "# Access both 'd1' and 'd2' columns from the concatenated DataFrame\n",
        "columns_d1_and_d2 = df[['d1', 'd2']]\n",
        "print(\"Columns 'd1' and 'd2' from Concatenated DataFrame:\")\n",
        "print(columns_d1_and_d2)\n"
      ],
      "metadata": {
        "colab": {
          "base_uri": "https://localhost:8080/"
        },
        "id": "l8SMOxHdieVb",
        "outputId": "bbad0865-0a6b-41b2-d815-f5b916e80818"
      },
      "execution_count": null,
      "outputs": [
        {
          "output_type": "stream",
          "name": "stdout",
          "text": [
            "Columns 'd1' and 'd2' from Concatenated DataFrame:\n",
            "    d1   d2\n",
            "a  1.0  NaN\n",
            "b  2.0  3.0\n",
            "c  NaN  4.0\n"
          ]
        }
      ]
    },
    {
      "cell_type": "code",
      "source": [
        "# Access rows from index 1 to 2\n",
        "sliced_rows = df[1:3]#last index is not include.\n",
        "print(sliced_rows)"
      ],
      "metadata": {
        "colab": {
          "base_uri": "https://localhost:8080/"
        },
        "id": "mVgJclAQiqVX",
        "outputId": "eab28291-58c6-4d31-edad-774992885eb0"
      },
      "execution_count": null,
      "outputs": [
        {
          "output_type": "stream",
          "name": "stdout",
          "text": [
            "    d1   d2\n",
            "b  2.0  3.0\n",
            "c  NaN  4.0\n"
          ]
        }
      ]
    },
    {
      "cell_type": "code",
      "source": [
        "# Access specific rows by label ('a', 'b', 'c') and specific columns by label ('d1', 'd2')\n",
        "sliced_subset = df.loc[['a', 'b', 'c'], ['d1', 'd2']]\n",
        "print(\"Sliced Subset of the DataFrame:\")\n",
        "print(sliced_subset)\n"
      ],
      "metadata": {
        "colab": {
          "base_uri": "https://localhost:8080/"
        },
        "id": "_t8LQZCXi_vg",
        "outputId": "123d9d80-cf54-4cd6-ee4e-3ea91fa2adcb"
      },
      "execution_count": null,
      "outputs": [
        {
          "output_type": "stream",
          "name": "stdout",
          "text": [
            "Sliced Subset of the DataFrame:\n",
            "    d1   d2\n",
            "a  1.0  NaN\n",
            "b  2.0  3.0\n",
            "c  NaN  4.0\n"
          ]
        }
      ]
    },
    {
      "cell_type": "code",
      "source": [
        "# Access specific rows (1 and 2) and columns (0) by integer position\n",
        "sliced_subset_iloc = df.iloc[1:3, 0:1]\n",
        "print(\"Sliced Subset using Integer Positions:\")\n",
        "print(sliced_subset_iloc)\n"
      ],
      "metadata": {
        "colab": {
          "base_uri": "https://localhost:8080/"
        },
        "id": "tBYYbfhZjRjF",
        "outputId": "4d46c108-4e82-468a-8a79-bb24b71b5a7e"
      },
      "execution_count": null,
      "outputs": [
        {
          "output_type": "stream",
          "name": "stdout",
          "text": [
            "Sliced Subset using Integer Positions:\n",
            "    d1\n",
            "b  2.0\n",
            "c  NaN\n"
          ]
        }
      ]
    },
    {
      "cell_type": "code",
      "source": [
        "# Access the first row (integer position 0) and the first column (integer position 0)\n",
        "value = df.iloc[0, 0]\n",
        "print(\"Value at first row and first column:\")\n",
        "print(value)\n"
      ],
      "metadata": {
        "colab": {
          "base_uri": "https://localhost:8080/"
        },
        "id": "A3lvbDSpjlW4",
        "outputId": "6222396d-656a-4dd9-a06f-78010269b45e"
      },
      "execution_count": null,
      "outputs": [
        {
          "output_type": "stream",
          "name": "stdout",
          "text": [
            "Value at first row and first column:\n",
            "1.0\n"
          ]
        }
      ]
    },
    {
      "cell_type": "code",
      "source": [
        "# Access a subset of rows (2nd and 3rd rows) and columns (1st and 2nd columns) using integer positions\n",
        "subset = df.iloc[1:3, 0:2]\n",
        "print(\"Subset of Rows 2 and 3, Columns 1 and 2:\")\n",
        "print(subset)\n"
      ],
      "metadata": {
        "colab": {
          "base_uri": "https://localhost:8080/"
        },
        "id": "HeonERFzj4gx",
        "outputId": "8557e948-6627-4f3b-8a3b-530d2f31426b"
      },
      "execution_count": null,
      "outputs": [
        {
          "output_type": "stream",
          "name": "stdout",
          "text": [
            "Subset of Rows 2 and 3, Columns 1 and 2:\n",
            "    d1   d2\n",
            "b  2.0  3.0\n",
            "c  NaN  4.0\n"
          ]
        }
      ]
    },
    {
      "cell_type": "code",
      "source": [
        "# Access a specific element using row label 'a' and column label 'd1'\n",
        "value = df.loc['a', 'd1']\n",
        "print(\"Value at row 'a' and column 'd1':\")\n",
        "print(value)\n"
      ],
      "metadata": {
        "colab": {
          "base_uri": "https://localhost:8080/"
        },
        "id": "Ml-j7VS_j-JA",
        "outputId": "576dbae9-e918-4524-c95f-4aca8d4b5aaa"
      },
      "execution_count": null,
      "outputs": [
        {
          "output_type": "stream",
          "name": "stdout",
          "text": [
            "Value at row 'a' and column 'd1':\n",
            "1.0\n"
          ]
        }
      ]
    },
    {
      "cell_type": "code",
      "source": [
        "# Access a subset of rows and columns by labels\n",
        "subset = df.loc[['a', 'b', 'c'], ['d1', 'd2']]\n",
        "print(subset)"
      ],
      "metadata": {
        "colab": {
          "base_uri": "https://localhost:8080/"
        },
        "id": "Dad-7XC7kM-9",
        "outputId": "34a5f58a-3636-4d02-e0d4-8a5852902e80"
      },
      "execution_count": null,
      "outputs": [
        {
          "output_type": "stream",
          "name": "stdout",
          "text": [
            "    d1   d2\n",
            "a  1.0  NaN\n",
            "b  2.0  3.0\n",
            "c  NaN  4.0\n"
          ]
        }
      ]
    },
    {
      "cell_type": "code",
      "source": [
        "# Forward fill missing values along rows (axis 0)\n",
        "print(\"Original DataFrame:\")\n",
        "print(df)\n",
        "\n"
      ],
      "metadata": {
        "colab": {
          "base_uri": "https://localhost:8080/"
        },
        "id": "uo07lBrFj-UP",
        "outputId": "3752a5fc-7d51-41f6-f0c2-599757f8a8c1"
      },
      "execution_count": null,
      "outputs": [
        {
          "output_type": "stream",
          "name": "stdout",
          "text": [
            "Original DataFrame:\n",
            "    d1   d2\n",
            "a  1.0  NaN\n",
            "b  2.0  3.0\n",
            "c  NaN  4.0\n"
          ]
        }
      ]
    },
    {
      "cell_type": "code",
      "source": [
        "# Forward fill missing values along rows (axis 0)\n",
        "filled_df_rows = df.fillna(method='ffill', axis=0)\n",
        "print(\"\\nDataFrame after Forward Filling along Rows (Axis 0):\")\n",
        "print(filled_df_rows)\n"
      ],
      "metadata": {
        "colab": {
          "base_uri": "https://localhost:8080/"
        },
        "id": "4UwRWvUnk2vA",
        "outputId": "27b2f830-cc63-455f-d0ed-38052e38a02b"
      },
      "execution_count": null,
      "outputs": [
        {
          "output_type": "stream",
          "name": "stdout",
          "text": [
            "\n",
            "DataFrame after Forward Filling along Rows (Axis 0):\n",
            "    d1   d2\n",
            "a  1.0  NaN\n",
            "b  2.0  3.0\n",
            "c  2.0  4.0\n"
          ]
        }
      ]
    },
    {
      "cell_type": "code",
      "source": [
        "# Forward fill along columns (axis 1)\n",
        "\n",
        "filled_df_columns = df.fillna(method='ffill', axis=1)\n",
        "print(f\"forwaded filling along axes 1(colume) \\n{filled_df_columns}\")"
      ],
      "metadata": {
        "colab": {
          "base_uri": "https://localhost:8080/"
        },
        "id": "HZkevPxTk9uB",
        "outputId": "a9566d91-e167-4330-cbba-d619cb946595"
      },
      "execution_count": null,
      "outputs": [
        {
          "output_type": "stream",
          "name": "stdout",
          "text": [
            "forwaded filling along axes 1(colume) \n",
            "    d1   d2\n",
            "a  1.0  1.0\n",
            "b  2.0  3.0\n",
            "c  NaN  4.0\n"
          ]
        }
      ]
    },
    {
      "cell_type": "code",
      "source": [
        "# Backward fill along rows (axis 0)\n",
        "filled_df_rows = df.fillna(method='bfill', axis=0)\n",
        "print(f\"backward filling along axes 0(row) \\n{filled_df_rows}\")"
      ],
      "metadata": {
        "colab": {
          "base_uri": "https://localhost:8080/"
        },
        "id": "5Gy_1iEMlH4g",
        "outputId": "f46c8100-88ee-45b9-8073-18dc72793b43"
      },
      "execution_count": null,
      "outputs": [
        {
          "output_type": "stream",
          "name": "stdout",
          "text": [
            "backward filling along axes 0(row) \n",
            "    d1   d2\n",
            "a  1.0  3.0\n",
            "b  2.0  3.0\n",
            "c  NaN  4.0\n"
          ]
        }
      ]
    },
    {
      "cell_type": "code",
      "source": [
        "# Backward fill missing values along columns (axis 1)\n",
        "filled_df_columns = df.fillna(method='bfill', axis=1)\n",
        "# Print the DataFrame after Backward Filling along Columns (Axis 1)\n",
        "print(\"DataFrame after Backward Filling along Columns (Axis 1):\")\n",
        "print(filled_df_columns)\n"
      ],
      "metadata": {
        "colab": {
          "base_uri": "https://localhost:8080/"
        },
        "id": "UnIad2KRljSR",
        "outputId": "a85c1e93-3846-4016-e008-e120732febc7"
      },
      "execution_count": null,
      "outputs": [
        {
          "output_type": "stream",
          "name": "stdout",
          "text": [
            "DataFrame after Backward Filling along Columns (Axis 1):\n",
            "    d1   d2\n",
            "a  1.0  NaN\n",
            "b  2.0  3.0\n",
            "c  4.0  4.0\n"
          ]
        }
      ]
    }
  ]
}